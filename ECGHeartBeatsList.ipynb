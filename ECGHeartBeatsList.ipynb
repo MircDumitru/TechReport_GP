{
 "cells": [
  {
   "cell_type": "code",
   "execution_count": null,
   "id": "3c7121da",
   "metadata": {},
   "outputs": [],
   "source": [
    "def ECGHeartBeatsList(ecg_bwr, mids):\n",
    "    x_hbs = []\n",
    "    for i in range(len(mids)-1):\n",
    "        x_hb = ecg_bwr[mids[i]:mids[i+1]]\n",
    "        x_hbs.append(x_hb)\n",
    "    return(x_hbs)    "
   ]
  }
 ],
 "metadata": {
  "kernelspec": {
   "display_name": "Python 3 (ipykernel)",
   "language": "python",
   "name": "python3"
  },
  "language_info": {
   "codemirror_mode": {
    "name": "ipython",
    "version": 3
   },
   "file_extension": ".py",
   "mimetype": "text/x-python",
   "name": "python",
   "nbconvert_exporter": "python",
   "pygments_lexer": "ipython3",
   "version": "3.7.11"
  }
 },
 "nbformat": 4,
 "nbformat_minor": 5
}
