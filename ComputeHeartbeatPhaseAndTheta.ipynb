{
 "cells": [
  {
   "cell_type": "code",
   "execution_count": 5,
   "id": "d9a6968c",
   "metadata": {},
   "outputs": [],
   "source": [
    "%run ComputeIntervals.ipynb\n",
    "def ComputeHeartbeatPhaseAndTheta(hb, Tau):\n",
    "    #print(len(hb), Tau)\n",
    "    ints = ComputeIntervals(len(hb), Tau)\n",
    "    #print(ints)\n",
    "    #---\n",
    "    T = np.zeros((Tau, len(hb)))\n",
    "    hbph = [] * Tau\n",
    "    #---\n",
    "    for i in np.arange(Tau):\n",
    "        start = int(np.ceil(ints[i]))\n",
    "        end = int(np.ceil(ints[i+1]))\n",
    "        if(start == end):\n",
    "            if(start > 0):\n",
    "                start = start - 1\n",
    "            if(end < len(hb)):\n",
    "                end = end + 1\n",
    "        T[i, np.arange(start, end)] = 1/len(hb[start:end])\n",
    "        hbph.append(sum(hb[start:end])/len(hb[start:end]))\n",
    "    return T, hbph"
   ]
  }
 ],
 "metadata": {
  "kernelspec": {
   "display_name": "Python 3 (ipykernel)",
   "language": "python",
   "name": "python3"
  },
  "language_info": {
   "codemirror_mode": {
    "name": "ipython",
    "version": 3
   },
   "file_extension": ".py",
   "mimetype": "text/x-python",
   "name": "python",
   "nbconvert_exporter": "python",
   "pygments_lexer": "ipython3",
   "version": "3.7.11"
  }
 },
 "nbformat": 4,
 "nbformat_minor": 5
}
