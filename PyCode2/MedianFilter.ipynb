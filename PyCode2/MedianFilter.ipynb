{
 "cells": [
  {
   "cell_type": "code",
   "execution_count": null,
   "id": "541cdfc0",
   "metadata": {},
   "outputs": [],
   "source": [
    "# MEDIAN FILTER function\n",
    "# filter window's length win_l expressed in seconds!\n",
    "def MedianFilter(signal, win_l_MD, fs):\n",
    "    win_len = int(win_l_MD * fs)\n",
    "    signal_filtered = scsig.medfilt(signal, win_len)\n",
    "    return signal_filtered"
   ]
  }
 ],
 "metadata": {
  "kernelspec": {
   "display_name": "Python 3 (ipykernel)",
   "language": "python",
   "name": "python3"
  },
  "language_info": {
   "codemirror_mode": {
    "name": "ipython",
    "version": 3
   },
   "file_extension": ".py",
   "mimetype": "text/x-python",
   "name": "python",
   "nbconvert_exporter": "python",
   "pygments_lexer": "ipython3",
   "version": "3.7.11"
  }
 },
 "nbformat": 4,
 "nbformat_minor": 5
}
