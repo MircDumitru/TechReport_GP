{
 "cells": [
  {
   "cell_type": "code",
   "execution_count": null,
   "id": "3654e274",
   "metadata": {},
   "outputs": [],
   "source": [
    "def AddNoise(target_snr_db, s):\n",
    "    s = np.asanyarray(s)\n",
    "    var_n = np.mean(s**2) / (10**(target_snr_db/10))\n",
    "    n = np.random.normal(0, np.sqrt(var_n), len(s))    \n",
    "    s_n = s + n # noise up the original signal\n",
    "    return s_n, n, var_n"
   ]
  }
 ],
 "metadata": {
  "kernelspec": {
   "display_name": "Python 3 (ipykernel)",
   "language": "python",
   "name": "python3"
  },
  "language_info": {
   "codemirror_mode": {
    "name": "ipython",
    "version": 3
   },
   "file_extension": ".py",
   "mimetype": "text/x-python",
   "name": "python",
   "nbconvert_exporter": "python",
   "pygments_lexer": "ipython3",
   "version": "3.7.11"
  }
 },
 "nbformat": 4,
 "nbformat_minor": 5
}
