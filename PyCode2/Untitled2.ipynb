{
 "cells": [
  {
   "cell_type": "code",
   "execution_count": 1,
   "id": "95bc8e8a",
   "metadata": {},
   "outputs": [
    {
     "ename": "IndentationError",
     "evalue": "expected an indented block (3833505255.py, line 4)",
     "output_type": "error",
     "traceback": [
      "\u001b[0;36m  File \u001b[0;32m\"/var/folders/c_/n49dqf053b1bxw4vyshdg5qm0000gn/T/ipykernel_45055/3833505255.py\"\u001b[0;36m, line \u001b[0;32m4\u001b[0m\n\u001b[0;31m    filt.append(mu_s[i] + np.matmul(Th[i].T, np.matmul(M, np.matmul(Th[i], x_n[i] - mu_s[i]))))\u001b[0m\n\u001b[0m       ^\u001b[0m\n\u001b[0;31mIndentationError\u001b[0m\u001b[0;31m:\u001b[0m expected an indented block\n"
     ]
    }
   ],
   "source": [
    "def GPFilter(mu_s, Th, M, invB, x_n):\n",
    "    filt = []\n",
    "    for i in np.arange(len(x_n)):    \n",
    "    filt.append(mu_s[i] + np.matmul(Th[i].T, np.matmul(M, np.matmul(Th[i], x_n[i] - mu_s[i]))))\n",
    "    return filt\n"
   ]
  }
 ],
 "metadata": {
  "kernelspec": {
   "display_name": "Python 3 (ipykernel)",
   "language": "python",
   "name": "python3"
  },
  "language_info": {
   "codemirror_mode": {
    "name": "ipython",
    "version": 3
   },
   "file_extension": ".py",
   "mimetype": "text/x-python",
   "name": "python",
   "nbconvert_exporter": "python",
   "pygments_lexer": "ipython3",
   "version": "3.7.11"
  }
 },
 "nbformat": 4,
 "nbformat_minor": 5
}
