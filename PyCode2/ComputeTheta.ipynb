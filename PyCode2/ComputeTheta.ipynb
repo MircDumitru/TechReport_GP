{
 "cells": [
  {
   "cell_type": "code",
   "execution_count": null,
   "id": "f0cb28ea",
   "metadata": {},
   "outputs": [],
   "source": [
    "def ComputeTheta(Th):\n",
    "    Theta = Th[0].tolist()\n",
    "    for i in np.arange(len(Th)-1):\n",
    "        Theta = np.concatenate((Theta,Th[i+1].tolist()), axis = 1)\n",
    "    #Theta = np.asmatrix(Theta)\n",
    "    # Theta = Theta / len(Th) -> Removed \n",
    "    return Theta"
   ]
  }
 ],
 "metadata": {
  "kernelspec": {
   "display_name": "Python 3 (ipykernel)",
   "language": "python",
   "name": "python3"
  },
  "language_info": {
   "codemirror_mode": {
    "name": "ipython",
    "version": 3
   },
   "file_extension": ".py",
   "mimetype": "text/x-python",
   "name": "python",
   "nbconvert_exporter": "python",
   "pygments_lexer": "ipython3",
   "version": "3.7.11"
  }
 },
 "nbformat": 4,
 "nbformat_minor": 5
}
