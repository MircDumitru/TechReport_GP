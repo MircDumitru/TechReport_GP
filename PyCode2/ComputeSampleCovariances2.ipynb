{
 "cells": [
  {
   "cell_type": "code",
   "execution_count": 2,
   "id": "1ac2ca57",
   "metadata": {},
   "outputs": [],
   "source": [
    "def ComputeSampleCovariances2(x, var):    \n",
    "    s = list(sum(x))\n",
    "    samps = []\n",
    "    for i in np.arange(len(x)):\n",
    "        samp = (s - x[i])/(np.sqrt(len(x)-1))\n",
    "        samps.append(samp)\n",
    "    #----- ---- --- -- -    \n",
    "    S_x = np.cov(samps, \n",
    "                 rowvar = False, \n",
    "                 bias = True)\n",
    "    S_s = S_x - var * np.identity(S_x.shape[0])\n",
    "    var_x = np.diag(S_x)\n",
    "    var_s = np.diag(S_s)  \n",
    "    #-----\n",
    "    return samps, S_x, S_s, var_x, var_s"
   ]
  }
 ],
 "metadata": {
  "kernelspec": {
   "display_name": "Python 3 (ipykernel)",
   "language": "python",
   "name": "python3"
  },
  "language_info": {
   "codemirror_mode": {
    "name": "ipython",
    "version": 3
   },
   "file_extension": ".py",
   "mimetype": "text/x-python",
   "name": "python",
   "nbconvert_exporter": "python",
   "pygments_lexer": "ipython3",
   "version": "3.7.11"
  }
 },
 "nbformat": 4,
 "nbformat_minor": 5
}
