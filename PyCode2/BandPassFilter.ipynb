{
 "cells": [
  {
   "cell_type": "code",
   "execution_count": null,
   "id": "a3f456df",
   "metadata": {},
   "outputs": [],
   "source": [
    "def BandPassFilter(signal, k_BP, fc):\n",
    "    alpha = (1 - k_BP*np.cos(2*np.pi*fc) - np.sqrt(2*k_BP*(1-np.cos(2*np.pi*fc)) - k_BP**2 * np.sin(2 * np.pi * fc)**2))/(1-k_BP)\n",
    "    signal_f = scsig.filtfilt(1-alpha, [1, -alpha], signal)\n",
    "    return(signal_f)"
   ]
  }
 ],
 "metadata": {
  "kernelspec": {
   "display_name": "Python 3 (ipykernel)",
   "language": "python",
   "name": "python3"
  },
  "language_info": {
   "codemirror_mode": {
    "name": "ipython",
    "version": 3
   },
   "file_extension": ".py",
   "mimetype": "text/x-python",
   "name": "python",
   "nbconvert_exporter": "python",
   "pygments_lexer": "ipython3",
   "version": "3.7.11"
  }
 },
 "nbformat": 4,
 "nbformat_minor": 5
}
