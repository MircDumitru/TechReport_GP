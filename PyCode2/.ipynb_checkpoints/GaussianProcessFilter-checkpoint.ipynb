{
 "cells": [
  {
   "cell_type": "code",
   "execution_count": 3,
   "id": "1ca366c4",
   "metadata": {},
   "outputs": [],
   "source": [
    "def GaussianProcessFilter(mu_s, Theta, invB, var_n, invSxph):    \n",
    "    s_h = mu_s + np.matmul(np.matmul(np.matmul(Theta.T, (invB - var_n * invSxph)), Theta), (x - mu_s))\n",
    "    #s_h = np.asarray(list(np.concatenate(s_h.tolist()).flat))\n",
    "    return s_h"
   ]
  }
 ],
 "metadata": {
  "kernelspec": {
   "display_name": "Python 3 (ipykernel)",
   "language": "python",
   "name": "python3"
  },
  "language_info": {
   "codemirror_mode": {
    "name": "ipython",
    "version": 3
   },
   "file_extension": ".py",
   "mimetype": "text/x-python",
   "name": "python",
   "nbconvert_exporter": "python",
   "pygments_lexer": "ipython3",
   "version": "3.7.11"
  }
 },
 "nbformat": 4,
 "nbformat_minor": 5
}
