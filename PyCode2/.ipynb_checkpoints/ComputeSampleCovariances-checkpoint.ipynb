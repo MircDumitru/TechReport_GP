{
 "cells": [
  {
   "cell_type": "code",
   "execution_count": 1,
   "id": "fcc9b773",
   "metadata": {},
   "outputs": [],
   "source": [
    "def ComputeSampleCovariances(x, var, B):    \n",
    "    S_x = np.cov(x, \n",
    "                 rowvar = False, \n",
    "                 bias = True)\n",
    "    S_s = S_x - var * B\n",
    "    var_x = np.diag(S_x)\n",
    "    var_s = np.diag(S_s)    \n",
    "    #-----\n",
    "    return S_x, S_s, var_x, var_s"
   ]
  }
 ],
 "metadata": {
  "kernelspec": {
   "display_name": "Python 3 (ipykernel)",
   "language": "python",
   "name": "python3"
  },
  "language_info": {
   "codemirror_mode": {
    "name": "ipython",
    "version": 3
   },
   "file_extension": ".py",
   "mimetype": "text/x-python",
   "name": "python",
   "nbconvert_exporter": "python",
   "pygments_lexer": "ipython3",
   "version": "3.7.11"
  }
 },
 "nbformat": 4,
 "nbformat_minor": 5
}
