{
 "cells": [
  {
   "cell_type": "code",
   "execution_count": 3,
   "id": "03c274a8",
   "metadata": {},
   "outputs": [],
   "source": [
    "def MovingAverageMatrixFilter(M_ph, n):    \n",
    "    M_ph_sm = np.copy(M_ph)\n",
    "    for i in range(M_ph.shape[0]):\n",
    "#         sig = np.asarray(M_ph[i,])\n",
    "#         sig = [item for sublist in sig.tolist() for item in sublist]\n",
    "        sig = M_ph[i,]\n",
    "        M_ph_sm[i,] = MovingAverageFilter(sig, n, 1)\n",
    "    return M_ph_sm  "
   ]
  }
 ],
 "metadata": {
  "kernelspec": {
   "display_name": "Python 3 (ipykernel)",
   "language": "python",
   "name": "python3"
  },
  "language_info": {
   "codemirror_mode": {
    "name": "ipython",
    "version": 3
   },
   "file_extension": ".py",
   "mimetype": "text/x-python",
   "name": "python",
   "nbconvert_exporter": "python",
   "pygments_lexer": "ipython3",
   "version": "3.7.11"
  }
 },
 "nbformat": 4,
 "nbformat_minor": 5
}
