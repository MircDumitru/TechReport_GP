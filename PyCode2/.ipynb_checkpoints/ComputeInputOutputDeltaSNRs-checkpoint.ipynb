{
 "cells": [
  {
   "cell_type": "code",
   "execution_count": 1,
   "id": "ca500306",
   "metadata": {},
   "outputs": [],
   "source": [
    "%run ComputeSNR.ipynb\n",
    "def ComputeInputOutputDeltaSNRs(x, n, s):\n",
    "    input_SNR_db = ComputeSNR(x, n)\n",
    "    output_SNR_db = ComputeSNR(x, [s_elem - x_elem for (s_elem, x_elem) in zip(s, x)])            \n",
    "    delta_SNR_db = output_SNR_db - input_SNR_db\n",
    "    return input_SNR_db, output_SNR_db, delta_SNR_db"
   ]
  }
 ],
 "metadata": {
  "kernelspec": {
   "display_name": "Python 3 (ipykernel)",
   "language": "python",
   "name": "python3"
  },
  "language_info": {
   "codemirror_mode": {
    "name": "ipython",
    "version": 3
   },
   "file_extension": ".py",
   "mimetype": "text/x-python",
   "name": "python",
   "nbconvert_exporter": "python",
   "pygments_lexer": "ipython3",
   "version": "3.7.11"
  }
 },
 "nbformat": 4,
 "nbformat_minor": 5
}
