{
 "cells": [
  {
   "cell_type": "code",
   "execution_count": 5,
   "id": "06f09804",
   "metadata": {},
   "outputs": [],
   "source": [
    "def GPFilter(mu_s, Th, M, invB, x_n):\n",
    "    s_h = []\n",
    "    for i in np.arange(len(x_n)):\n",
    "        s_h.append(mu_s[i] + 1/len(x_n) * np.matmul(Th[i].T, np.matmul(M, np.matmul(Th[i], x_n[i] - mu_s[i]))))\n",
    "    return s_h"
   ]
  }
 ],
 "metadata": {
  "kernelspec": {
   "display_name": "Python 3 (ipykernel)",
   "language": "python",
   "name": "python3"
  },
  "language_info": {
   "codemirror_mode": {
    "name": "ipython",
    "version": 3
   },
   "file_extension": ".py",
   "mimetype": "text/x-python",
   "name": "python",
   "nbconvert_exporter": "python",
   "pygments_lexer": "ipython3",
   "version": "3.7.11"
  }
 },
 "nbformat": 4,
 "nbformat_minor": 5
}
