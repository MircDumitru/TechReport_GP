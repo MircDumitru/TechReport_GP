{
 "cells": [
  {
   "cell_type": "code",
   "execution_count": null,
   "id": "ee48d782",
   "metadata": {},
   "outputs": [],
   "source": [
    "def ComputeNoiseVariance(x, mu_xph):\n",
    "    var_n_ME = np.abs(sum(i*i for i in x) - sum(i*i for i in mu_xph)[0]) / (len(x)-len(mu_xph))\n",
    "    return var_n_ME"
   ]
  }
 ],
 "metadata": {
  "kernelspec": {
   "display_name": "Python 3 (ipykernel)",
   "language": "python",
   "name": "python3"
  },
  "language_info": {
   "codemirror_mode": {
    "name": "ipython",
    "version": 3
   },
   "file_extension": ".py",
   "mimetype": "text/x-python",
   "name": "python",
   "nbconvert_exporter": "python",
   "pygments_lexer": "ipython3",
   "version": "3.7.11"
  }
 },
 "nbformat": 4,
 "nbformat_minor": 5
}
