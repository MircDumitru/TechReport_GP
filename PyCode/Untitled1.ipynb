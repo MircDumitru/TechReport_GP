{
 "cells": [
  {
   "cell_type": "code",
   "execution_count": null,
   "id": "6fb3760e",
   "metadata": {},
   "outputs": [],
   "source": [
    "def CheckMatrixCharacteristics(Matrix):\n",
    "    print('Checking matrix characteristics started....')\n",
    "    \n",
    "    if (check_if_diag(Matrix) == True):\n",
    "        print('   Matrix is diagonal.')\n",
    "    else:\n",
    "        print('   Matrix is NOT diagonal.')\n",
    "\n",
    "    if (np.linalg.det(Matrix) == 0):\n",
    "        print('   Matrix is NON invertible.')\n",
    "    else:\n",
    "        print('   Matrix is invertible.')\n",
    "    \n",
    "    print('Checking matrix characteristics finished.')        "
   ]
  }
 ],
 "metadata": {
  "kernelspec": {
   "display_name": "Python 3 (ipykernel)",
   "language": "python",
   "name": "python3"
  },
  "language_info": {
   "codemirror_mode": {
    "name": "ipython",
    "version": 3
   },
   "file_extension": ".py",
   "mimetype": "text/x-python",
   "name": "python",
   "nbconvert_exporter": "python",
   "pygments_lexer": "ipython3",
   "version": "3.7.11"
  }
 },
 "nbformat": 4,
 "nbformat_minor": 5
}
