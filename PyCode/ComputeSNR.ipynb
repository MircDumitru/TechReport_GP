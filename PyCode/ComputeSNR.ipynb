{
 "cells": [
  {
   "cell_type": "code",
   "execution_count": null,
   "id": "d05a9a85",
   "metadata": {},
   "outputs": [],
   "source": [
    "def ComputeSNR(s, n):\n",
    "    s = np.asanyarray(s)\n",
    "    n = np.asanyarray(n)\n",
    "    snr = 10 * np.log10(np.mean(s**2)/np.mean(n**2))\n",
    "    return snr"
   ]
  }
 ],
 "metadata": {
  "kernelspec": {
   "display_name": "Python 3 (ipykernel)",
   "language": "python",
   "name": "python3"
  },
  "language_info": {
   "codemirror_mode": {
    "name": "ipython",
    "version": 3
   },
   "file_extension": ".py",
   "mimetype": "text/x-python",
   "name": "python",
   "nbconvert_exporter": "python",
   "pygments_lexer": "ipython3",
   "version": "3.7.11"
  }
 },
 "nbformat": 4,
 "nbformat_minor": 5
}
