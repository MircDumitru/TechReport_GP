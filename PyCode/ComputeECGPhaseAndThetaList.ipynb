{
 "cells": [
  {
   "cell_type": "code",
   "execution_count": 7,
   "id": "387afe3e",
   "metadata": {},
   "outputs": [],
   "source": [
    "%run ComputeHeartbeatPhaseAndTheta.ipynb\n",
    "def ComputeECGPhaseAndThetaList(x, pshb, Tau):\n",
    "    xph = []\n",
    "    Theta = []\n",
    "    for i, hb in enumerate(x):\n",
    "        hb1 = hb[0:pshb[i]]\n",
    "        Th1, hb1_ph = ComputeHeartbeatPhaseAndTheta(hb1, int(Tau/2))\n",
    "        #----- ---- --- -- -    \n",
    "        hb2 = hb[pshb[i]:]\n",
    "        Th2, hb2_ph = ComputeHeartbeatPhaseAndTheta(hb2, int(Tau/2))\n",
    "        #----- ---- --- -- -            \n",
    "        # fabricate the phase heartbeat as concatenation\n",
    "        hb_ph = np.concatenate([hb1_ph, hb2_ph])        \n",
    "        # fabricate the Th as diagonal concatenation\n",
    "        Th = np.zeros((Th1.shape[0] + Th2.shape[0], Th1.shape[1] + Th2.shape[1]))\n",
    "        Th[0 : Th1.shape[0], 0 : Th1.shape[1]] = Th1\n",
    "        Th[Th1.shape[0] : Th1.shape[0] + Th2.shape[0], Th1.shape[1] : Th1.shape[1] + Th2.shape[1]] = Th2    \n",
    "        #Th = Th/Th.sum(axis=1)[:,None]\n",
    "        #----- ---- --- -- -        \n",
    "        xph.append(hb_ph) \n",
    "        Theta.append(Th)      \n",
    "    return xph, Theta"
   ]
  }
 ],
 "metadata": {
  "kernelspec": {
   "display_name": "Python 3 (ipykernel)",
   "language": "python",
   "name": "python3"
  },
  "language_info": {
   "codemirror_mode": {
    "name": "ipython",
    "version": 3
   },
   "file_extension": ".py",
   "mimetype": "text/x-python",
   "name": "python",
   "nbconvert_exporter": "python",
   "pygments_lexer": "ipython3",
   "version": "3.7.11"
  }
 },
 "nbformat": 4,
 "nbformat_minor": 5
}
