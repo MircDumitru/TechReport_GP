{
 "cells": [
  {
   "cell_type": "code",
   "execution_count": null,
   "id": "4b0b9763",
   "metadata": {},
   "outputs": [],
   "source": [
    "# MIDDLE DETECTION\n",
    "# I am using this convention that a heartbeat is starting at the middle point between two R peaks and ends up\n",
    "# at the middle point between the next two R peaks. \n",
    "def MiddleDetector(peaks,signal_length):\n",
    "    mids = []\n",
    "    for i in range(len(peaks)-1):        \n",
    "        mid = peaks[i] + int(np.floor((peaks[i+1] - peaks[i])/2))\n",
    "        mids.append(mid)\n",
    "        \n",
    "    mid = peaks[0] - int(np.floor((peaks[1] - peaks[0])/2))\n",
    "    if(mid >= 0):\n",
    "        mids.insert(0, mid)\n",
    "    \n",
    "    mid = peaks[-1] + int(np.floor((peaks[-1] - peaks[-2])/2))\n",
    "    if(mid <= signal_length):\n",
    "        mids.append(mid)        \n",
    "    mids = np.array(mids)    \n",
    "    return mids    "
   ]
  }
 ],
 "metadata": {
  "kernelspec": {
   "display_name": "Python 3 (ipykernel)",
   "language": "python",
   "name": "python3"
  },
  "language_info": {
   "codemirror_mode": {
    "name": "ipython",
    "version": 3
   },
   "file_extension": ".py",
   "mimetype": "text/x-python",
   "name": "python",
   "nbconvert_exporter": "python",
   "pygments_lexer": "ipython3",
   "version": "3.7.11"
  }
 },
 "nbformat": 4,
 "nbformat_minor": 5
}
