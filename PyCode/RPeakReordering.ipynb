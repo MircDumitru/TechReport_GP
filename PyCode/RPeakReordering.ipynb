{
 "cells": [
  {
   "cell_type": "code",
   "execution_count": null,
   "id": "38fbdc67",
   "metadata": {},
   "outputs": [],
   "source": [
    "def RPeakReordering(peaks,mids):\n",
    "    if(peaks[0]<mids[0] and peaks[-1]>mids[-1]):\n",
    "        pks = peaks[1:-1]\n",
    "        #print(\"case 1\")\n",
    "    elif(peaks[0]<mids[0]):\n",
    "        pks = peaks[1:]\n",
    "        #print(\"case 2\")    \n",
    "    elif(peaks[-1]>mids[-1]):\n",
    "        pks = peaks[:-1]\n",
    "        #print(\"case 3\")    \n",
    "    else:\n",
    "        pks = peaks\n",
    "    return(pks)"
   ]
  }
 ],
 "metadata": {
  "kernelspec": {
   "display_name": "Python 3 (ipykernel)",
   "language": "python",
   "name": "python3"
  },
  "language_info": {
   "codemirror_mode": {
    "name": "ipython",
    "version": 3
   },
   "file_extension": ".py",
   "mimetype": "text/x-python",
   "name": "python",
   "nbconvert_exporter": "python",
   "pygments_lexer": "ipython3",
   "version": "3.7.11"
  }
 },
 "nbformat": 4,
 "nbformat_minor": 5
}
