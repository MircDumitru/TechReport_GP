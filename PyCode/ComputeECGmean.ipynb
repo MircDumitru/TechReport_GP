{
 "cells": [
  {
   "cell_type": "code",
   "execution_count": 2,
   "id": "983251d8",
   "metadata": {},
   "outputs": [],
   "source": [
    "def ComputeECGmean(Theta, invB, mu_xph):\n",
    "    mu_s = np.matmul(np.matmul(Theta.T,invB), mu_xph)\n",
    "    return mu_s.flatten().tolist()"
   ]
  }
 ],
 "metadata": {
  "kernelspec": {
   "display_name": "Python 3 (ipykernel)",
   "language": "python",
   "name": "python3"
  },
  "language_info": {
   "codemirror_mode": {
    "name": "ipython",
    "version": 3
   },
   "file_extension": ".py",
   "mimetype": "text/x-python",
   "name": "python",
   "nbconvert_exporter": "python",
   "pygments_lexer": "ipython3",
   "version": "3.7.11"
  }
 },
 "nbformat": 4,
 "nbformat_minor": 5
}
