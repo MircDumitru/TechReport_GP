{
 "cells": [
  {
   "cell_type": "code",
   "execution_count": 1,
   "id": "13fd41da",
   "metadata": {},
   "outputs": [],
   "source": [
    "%run BandPassFilter.ipynb\n",
    "\n",
    "def RPeakDetector(signal, frac, win_l_calib, win_l_peak_search, fs):        \n",
    "    k_BP = .7     # cut-off value\n",
    "    flc = 15/fs\n",
    "    ecg_bp1 = BandPassFilter(signal, k_BP, flc)    \n",
    "    #\n",
    "    k_BP = .7     # cut-off value    \n",
    "    fuc = 45/fs\n",
    "    ecg_bp = BandPassFilter(ecg_bp1, k_BP, fuc)\n",
    "    #\n",
    "    k_tan = 4\n",
    "    alpha = k_tan * np.std(ecg_bp)\n",
    "    ecg_tan = alpha * np.tanh(ecg_bp/alpha)\n",
    "    #\n",
    "    #ecg_sq = ecg_tan**2\n",
    "    ecg_sq = np.abs(ecg_tan)\n",
    "    #\n",
    "    wind_len_MA = .1\n",
    "    ecg_MA_sq = ecg_sq\n",
    "    #ecg_MA_sq = np.sqrt(func_MA_filter(ecg_sq, wind_len_MA, fs))\n",
    "    #\n",
    "    maxecg = max(ecg_MA_sq)\n",
    "    heightlim = frac * maxecg\n",
    "    peaks, _ = scsig.find_peaks(ecg_MA_sq, distance = win_l_peak_search*fs, height = heightlim)            \n",
    "    #\n",
    "    #print(\"peaks raw (as per the detector)\", peaks)\n",
    "    wind_len_hf = int(win_l_calib * fs)\n",
    "    pks = []\n",
    "    for i in range(len(peaks)):\n",
    "        if(i == 0):\n",
    "            wind = np.arange(peaks[i], peaks[i]+wind_len_hf, 1)\n",
    "            ecg_bwr_win = signal[wind]\n",
    "            p = peaks[i] + np.argmax(ecg_bwr_win**2)   \n",
    "        elif(i == len(peaks) - 1):\n",
    "            wind = np.arange(peaks[i] - wind_len_hf, peaks[i], 1)            \n",
    "            ecg_bwr_win = signal[wind]\n",
    "            p = peaks[i]- wind_len_hf + np.argmax(ecg_bwr_win**2)                \n",
    "        else:\n",
    "            wind = np.arange(peaks[i] - wind_len_hf, peaks[i] + wind_len_hf, 1)\n",
    "            ecg_bwr_win = signal[wind]\n",
    "            p = peaks[i]- wind_len_hf + np.argmax(ecg_bwr_win**2)                            \n",
    "        pks.append(p)    \n",
    "\n",
    "    return(ecg_bp1, ecg_bp, ecg_tan, ecg_sq, ecg_MA_sq, peaks, np.array(pks))"
   ]
  }
 ],
 "metadata": {
  "kernelspec": {
   "display_name": "Python 3 (ipykernel)",
   "language": "python",
   "name": "python3"
  },
  "language_info": {
   "codemirror_mode": {
    "name": "ipython",
    "version": 3
   },
   "file_extension": ".py",
   "mimetype": "text/x-python",
   "name": "python",
   "nbconvert_exporter": "python",
   "pygments_lexer": "ipython3",
   "version": "3.7.11"
  }
 },
 "nbformat": 4,
 "nbformat_minor": 5
}
