{
 "cells": [
  {
   "cell_type": "code",
   "execution_count": null,
   "id": "2fe7dec9",
   "metadata": {},
   "outputs": [],
   "source": [
    "def ComputeMinAndMaxHeartbeatLength(x):\n",
    "    minhb = len(x[0])\n",
    "    maxhb = len(x[0])\n",
    "    for i in np.arange(1,len(x)):\n",
    "        if minhb>len(x[i]):\n",
    "            minhb = len(x[i])\n",
    "        if maxhb<len(x[i]):\n",
    "            maxhb = len(x[i])        \n",
    "    return minhb, maxhb"
   ]
  }
 ],
 "metadata": {
  "kernelspec": {
   "display_name": "Python 3 (ipykernel)",
   "language": "python",
   "name": "python3"
  },
  "language_info": {
   "codemirror_mode": {
    "name": "ipython",
    "version": 3
   },
   "file_extension": ".py",
   "mimetype": "text/x-python",
   "name": "python",
   "nbconvert_exporter": "python",
   "pygments_lexer": "ipython3",
   "version": "3.7.11"
  }
 },
 "nbformat": 4,
 "nbformat_minor": 5
}
