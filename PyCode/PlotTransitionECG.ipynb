{
 "cells": [
  {
   "cell_type": "code",
   "execution_count": 1,
   "id": "80f30065",
   "metadata": {},
   "outputs": [],
   "source": [
    "def PlotTransitionECG(x, xph, mu_xph, var_xph, fs, target):\n",
    "    x_f = np.concatenate(x, axis=0).tolist()  \n",
    "    fig = plt.figure(figsize = (22, 8))\n",
    "    plt.subplot(2, 2, 1)    \n",
    "    plt.title('ECG', fontsize = 16)\n",
    "    plt.xlabel(\"time [seconds]\", fontsize = 16)\n",
    "    plt.ylabel(\"amp [mV]\", fontsize = 16)\n",
    "    plt.plot(np.arange(len(x_f[0:8000]))/fs, x_f[0:8000])\n",
    "    #-----\n",
    "    plt.subplot(2, 2, 3)\n",
    "    plt.title('heartbeats', fontsize = 16)\n",
    "    plt.xlabel(\"time [seconds]\", fontsize = 16)\n",
    "    plt.ylabel(\"amp [mV]\", fontsize = 16)    \n",
    "    for i in np.arange(len(x)):\n",
    "        plt.plot(np.arange(len(x[i]))/fs, x[i])\n",
    "    #-----\n",
    "    plt.subplot(2, 2, 4)\n",
    "    plt.title('heartbeats phase', fontsize = 16)\n",
    "    plt.xlabel(\"time [seconds]\", fontsize = 16)\n",
    "    plt.ylabel(\"amp [mV]\", fontsize = 16)    \n",
    "    for i in np.arange(len(xph)):\n",
    "        plt.plot(np.arange(len(xph[i]))/fs, xph[i])\n",
    "    #-----\n",
    "    plt.subplot(2, 2, 2)\n",
    "    plt.title('average heartbeat phase', fontsize = 16)\n",
    "    plt.xlabel(\"time [seconds]\", fontsize = 16)\n",
    "    plt.ylabel(\"amp [mV]\", fontsize = 16)    \n",
    "    plt.plot(np.arange(len(mu_xph))/fs, mu_xph, lw = 3, color = 'magenta')\n",
    "    plt.fill_between(np.arange(len(mu_xph))/fs,\n",
    "                     mu_xph - var_xph,\n",
    "                     mu_xph + var_xph,\n",
    "                     color = 'gray',\n",
    "                     alpha = 0.2)\n",
    "    fig.tight_layout()\n",
    "    plt.savefig(target + '.eps', format = 'eps', bbox_inches='tight')\n",
    "    plt.savefig(target + '.png', format = 'png', bbox_inches='tight')\n",
    "    plt.show()"
   ]
  }
 ],
 "metadata": {
  "kernelspec": {
   "display_name": "Python 3 (ipykernel)",
   "language": "python",
   "name": "python3"
  },
  "language_info": {
   "codemirror_mode": {
    "name": "ipython",
    "version": 3
   },
   "file_extension": ".py",
   "mimetype": "text/x-python",
   "name": "python",
   "nbconvert_exporter": "python",
   "pygments_lexer": "ipython3",
   "version": "3.7.11"
  }
 },
 "nbformat": 4,
 "nbformat_minor": 5
}
