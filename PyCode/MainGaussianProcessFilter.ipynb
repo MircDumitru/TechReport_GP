{
 "cells": [
  {
   "cell_type": "code",
   "execution_count": 1,
   "id": "90e2d2cc",
   "metadata": {},
   "outputs": [],
   "source": [
    "import os\n",
    "#import sys\n",
    "\n",
    "import wfdb\n",
    "\n",
    "#import time\n",
    "\n",
    "import numpy as np\n",
    "#from numpy.linalg import norm\n",
    "from numpy.linalg import inv\n",
    "#import random as rnd\n",
    "#import math as mth\n",
    "\n",
    "import scipy.signal as scsig\n",
    "#import scipy.linalg as sclin\n",
    "import matplotlib.pyplot as plt\n",
    "# import scipy.stats as scstat\n",
    "# import scipy.ndimage as scndi"
   ]
  },
  {
   "cell_type": "code",
   "execution_count": 2,
   "id": "fa0d08d0",
   "metadata": {},
   "outputs": [],
   "source": [
    "%run BaselineWonderRemoval.ipynb\n",
    "%run RPeakDetector.ipynb\n",
    "%run MiddleDetector.ipynb\n",
    "%run RPeakReordering.ipynb\n",
    "%run AddNoise.ipynb\n",
    "%run ECGHeartBeatsList.ipynb\n",
    "%run CheckThetaThetaTransposed.ipynb\n",
    "%run CheckSampleCovarianceMatrix.ipynb\n",
    "%run ComputeMinAndMaxHeartbeatLength.ipynb\n",
    "\n",
    "%run MeanECGExtraction.ipynb"
   ]
  },
  {
   "cell_type": "code",
   "execution_count": 3,
   "id": "b622a867",
   "metadata": {},
   "outputs": [
    {
     "name": "stdout",
     "output_type": "stream",
     "text": [
      "selected file:  sele0612\n",
      "selected channel:  0\n",
      "number of seconds: 500\n",
      "N =  125000\n",
      "# of samples in x:  124561\n",
      "# of hb in x:  412\n",
      "smallest hb in x: 278\n",
      "largest hb in x: 319\n",
      "target noise dB: 0\n",
      "noise variance: 0.06826489783005411\n",
      "Tau: 250\n",
      "[OK] Tau = 250 <= 278 = min(len(hb)) => Theta * Theta.T is diagonal hence invertible.\n",
      "[OK] Tau = 250 <= 412 = n_hb => sampCov most probably invertible\n"
     ]
    }
   ],
   "source": [
    "#srecord = wfdb.rdrecord('Data/s0010_re')\n",
    "FILE_PATH = os.getcwd()\n",
    "data_dir = FILE_PATH + '/../QTDataBase/'\n",
    "data_files = os.listdir(data_dir) # get a listing of the directory\n",
    "dat_files = [x.split('.')[0] for x in data_files]\n",
    "#dat_files = sorted([f for f in data_files if f.endswith('.hea')]) # get a list of all the .atc files\n",
    "#-------\n",
    "file_name = 'sele0612'\n",
    "#'sele0603' 'sele0612' 'sel41' 'sele0122' 'sel40' 'sele0612' 'sele0303'\n",
    "#-------\n",
    "file_to_read = data_dir + file_name\n",
    "signals, fields = wfdb.rdsamp(file_to_read, sampfrom=0)\n",
    "fs = fields[\"fs\"]\n",
    "ch_num = 0\n",
    "s = signals[:,ch_num]\n",
    "#\n",
    "#-------\n",
    "n_sec = 500\n",
    "N = n_sec * fs \n",
    "ecg_clean = s[0: N]\n",
    "tm = np.arange(0, N)/fs\n",
    "#-------\n",
    "bwr, ecg_bwr = BaselineWonderRemoval(signal = ecg_clean,\n",
    "                                     win_l_MA = 0.5,\n",
    "                                     win_l_MD = 0.71,\n",
    "                                     fs = fs)\n",
    "ecg_bp1, ecg_bp, ecg_tan, ecg_sq, ecg_MA_sq, peaks2, pks = RPeakDetector(signal = ecg_bwr, \n",
    "                                                                             frac = 0.5, \n",
    "                                                                             win_l_calib = 0.6, \n",
    "                                                                             win_l_peak_search = 0.5, \n",
    "                                                                             fs = fs)\n",
    "mids = MiddleDetector(peaks2, len(ecg_bwr))\n",
    "pks = RPeakReordering(pks, mids)\n",
    "\n",
    "ecg = ecg_bwr[mids[0] : mids[-1]+1]                # get the ecg, i.e. get the chunck between the first mid and last mid\n",
    "ps = np.int_(pks - mids[0])                        # calibrate the peaks, by shifting with the mids[0] \n",
    "                                                   # which is the begining of the signal\n",
    "    \n",
    "ms = np.int_(mids - mids[0])                       # calibrate the midles, by shifting with the mids[0] \n",
    "                                                   # which is the begining of the signal\n",
    "\n",
    "pshb = ps - ms[:-1]                                # the peaks relative to each heartbeat, i.e. the position counting \n",
    "                                                   # from the heartbeat begining    \n",
    "#----- ---- --- -- -\n",
    "target_noise_db = 0                                # set the target noise in dB\n",
    "Tau = 250                                          # set the number of bins (samples in phase space)\n",
    "ecg_n, n, var_n = AddNoise(target_noise_db, ecg)   # get the noisy signal and the added noise signal\n",
    "sd_n = np.sqrt(var_n)\n",
    "#----- ---- --- -- -\n",
    "x = ECGHeartBeatsList(ecg, ms)                     # x is the \"pure\" ecg, as list of heartbeats\n",
    "x_f = np.concatenate(x, axis=0).tolist()           # x_f refers to x flatten, used in multiplications\n",
    "#----- ---- --- -- -\n",
    "x_n = ECGHeartBeatsList(ecg_n, ms)                 # x is the \"noisy\" ecg, as list of noisy heartbeats\n",
    "x_n_f = np.concatenate(x_n, axis=0).tolist()       # x_n_f refers to x_n flatten, used in multiplications\n",
    "\n",
    "print(\"selected file: \", file_name)\n",
    "print(\"selected channel: \", ch_num)\n",
    "print('number of seconds:', n_sec)\n",
    "print('N = ',N)\n",
    "print('# of samples in x: ', len(x_f))\n",
    "print('# of hb in x: ', len(x))\n",
    "print('smallest hb in x:', ComputeMinAndMaxHeartbeatLength(x)[0])\n",
    "print('largest hb in x:', ComputeMinAndMaxHeartbeatLength(x)[1])\n",
    "print('target noise dB:', target_noise_db)\n",
    "print('noise variance:', var_n)\n",
    "print('Tau:', Tau)\n",
    "CheckThetaThetaTransposed(x, Tau)\n",
    "CheckSampleCovarianceMatrix(x, Tau)"
   ]
  },
  {
   "cell_type": "code",
   "execution_count": 4,
   "id": "4bdefa3d",
   "metadata": {},
   "outputs": [],
   "source": [
    "%run ComputeECGPhaseAndThetaList.ipynb\n",
    "%run ComputeTheta.ipynb\n",
    "%run ComputeSampleCovariances.ipynb"
   ]
  },
  {
   "cell_type": "code",
   "execution_count": null,
   "id": "c46d9741",
   "metadata": {},
   "outputs": [],
   "source": [
    "#x in phase domain \n",
    "xph, Th = ComputeECGPhaseAndThetaList(x, pshb, Tau)  # xph is list of transformed heartbeats for x, Theta is the transf\n",
    "Theta = ComputeTheta(Th)                             # Theta is formed from each Th_i, by concatenation and normalization"
   ]
  },
  {
   "cell_type": "code",
   "execution_count": null,
   "id": "fcde7f55",
   "metadata": {},
   "outputs": [],
   "source": [
    "len(Theta[0].tolist())"
   ]
  },
  {
   "cell_type": "code",
   "execution_count": null,
   "id": "6b50cc82",
   "metadata": {},
   "outputs": [],
   "source": [
    "# # Theta is filtered for a smoother filter\n",
    "# %run MovingAverageMatrixFilter.ipynb\n",
    "# ThetaF = MovingAverageMatrixFilter(Theta, 5)"
   ]
  },
  {
   "cell_type": "code",
   "execution_count": null,
   "id": "ce600c58",
   "metadata": {},
   "outputs": [],
   "source": [
    "xph_f = np.concatenate(xph, axis=0).tolist()         # xph_f refers to xph flatten, used in multiplications\n",
    "mu_xph = np.matmul(Theta, x_f)\n",
    "#mu_xph = np.asarray(Theta * np.asmatrix(x_f).T)      # mu_xph is the mean-binned signal x in the phase domain"
   ]
  },
  {
   "cell_type": "code",
   "execution_count": null,
   "id": "80e9d07d",
   "metadata": {},
   "outputs": [],
   "source": [
    "S_xph, S_sph, var_xph, var_sph = ComputeSampleCovariances(xph, var_n)\n",
    "sd_xph = np.sqrt(var_xph)"
   ]
  },
  {
   "cell_type": "code",
   "execution_count": null,
   "id": "344fae28",
   "metadata": {},
   "outputs": [],
   "source": [
    "%run PlotTransitionECG.ipynb\n",
    "target_file = '../Figs/pISCE_GP_TransFS2'\n",
    "PlotTransitionECG(x, xph, mu_xph, var_xph, fs, target_file)"
   ]
  },
  {
   "cell_type": "code",
   "execution_count": null,
   "id": "42d3df72",
   "metadata": {},
   "outputs": [],
   "source": [
    "B = np.matmul(Theta, Theta.T)\n",
    "invB = np.linalg.inv(B) \n",
    "BinvB = np.matmul(B,invB)"
   ]
  },
  {
   "cell_type": "code",
   "execution_count": null,
   "id": "698ff298",
   "metadata": {},
   "outputs": [],
   "source": [
    "%run ComputeSampleCovariances.ipynb\n",
    "Sxph, Ssph, varxph, varsph = ComputeSampleCovariances(xph, var_n)\n",
    "invSxph = np.linalg.inv(Sxph) \n",
    "SxphinvSxph = np.matmul(Sxph,invSxph)"
   ]
  },
  {
   "cell_type": "code",
   "execution_count": null,
   "id": "d179083f",
   "metadata": {},
   "outputs": [],
   "source": [
    "plt.plot(1/varxph)"
   ]
  },
  {
   "cell_type": "code",
   "execution_count": null,
   "id": "e7802e55",
   "metadata": {},
   "outputs": [],
   "source": [
    "# %run ComputeSampleCovariances2.ipynb\n",
    "# samps2, Sxph2, Ssph2, varxph2, varsph2 = ComputeSampleCovariances2(xph, var_n)\n",
    "# invSxph2 = np.linalg.inv(Sxph2) \n",
    "# SxphinvSxph2 = np.matmul(Sxph2,invSxph2)"
   ]
  },
  {
   "cell_type": "code",
   "execution_count": null,
   "id": "e2faf369",
   "metadata": {},
   "outputs": [],
   "source": [
    "# Rho = invB \n",
    "# Rho = invB - var_n * invSxph\n",
    "# Rho = B - var_n * Sxph\n",
    "Rho = invB - var_n * np.diag(1/np.diag(Sxph))"
   ]
  },
  {
   "cell_type": "code",
   "execution_count": null,
   "id": "beb8ffd8",
   "metadata": {},
   "outputs": [],
   "source": [
    "fig = plt.figure(figsize = (20,12))    \n",
    "#-----\n",
    "plt.subplot(3,3,1)\n",
    "plt.imshow(B)\n",
    "plt.colorbar()\n",
    "plt.title(\"B\", fontsize = 16)\n",
    "#-----\n",
    "plt.subplot(3,3,2)\n",
    "plt.imshow(invB)\n",
    "plt.colorbar()\n",
    "plt.title(\"invB\", fontsize = 16)\n",
    "#-----\n",
    "plt.subplot(3,3,3)\n",
    "plt.imshow(BinvB)\n",
    "plt.colorbar()\n",
    "plt.title(\"B * invB\", fontsize = 16)\n",
    "#-----\n",
    "plt.subplot(3,3,4)\n",
    "plt.imshow(Sxph)\n",
    "plt.colorbar()\n",
    "plt.title(\"Sxph\", fontsize = 16)\n",
    "#-----\n",
    "plt.subplot(3,3,5)\n",
    "plt.imshow(invSxph)\n",
    "plt.colorbar()\n",
    "plt.title(\"invSxph\", fontsize = 16)\n",
    "#-----\n",
    "plt.subplot(3,3,6)\n",
    "plt.imshow(SxphinvSxph)\n",
    "plt.colorbar()\n",
    "plt.title(\"Sxph * invSxph\", fontsize = 16)\n",
    "#-----\n",
    "plt.subplot(3,3,7)\n",
    "plt.imshow(Rho)\n",
    "plt.colorbar()\n",
    "plt.title(\"Rho\", fontsize = 16)\n",
    "#-----\n",
    "fig.tight_layout()"
   ]
  },
  {
   "cell_type": "code",
   "execution_count": null,
   "id": "ceedbb5f",
   "metadata": {},
   "outputs": [],
   "source": [
    "ts = np.matmul(invB, Theta)\n",
    "#ts = np.matmul(Theta.T, np.matmul(invB, Theta))"
   ]
  },
  {
   "cell_type": "code",
   "execution_count": null,
   "id": "43978ef8",
   "metadata": {},
   "outputs": [],
   "source": [
    "#plt.imshow(ts)"
   ]
  },
  {
   "cell_type": "code",
   "execution_count": null,
   "id": "b11921e0",
   "metadata": {},
   "outputs": [],
   "source": [
    "%run ComputeECGmean.ipynb\n",
    "\n",
    "mu_x = ComputeECGmean(Theta, invB, mu_xph)\n",
    "mu_xtest = ComputeECGmean(Theta, np.identity(Tau), mu_xph)\n",
    "\n",
    "diff = [x_f_elem - mu_x_elem for (x_f_elem, mu_x_elem) in zip(x_f, mu_x)]\n",
    "diff_n = [x_n_f_elem - mu_x_elem for (x_n_f_elem, mu_x_elem) in zip(x_n_f, mu_x)]\n",
    "beta = np.matmul(Theta.T, np.matmul(Rho, np.matmul(Theta, diff_n)))\n",
    "\n",
    "s_h = [mu_x_elem + beta_elem for (mu_x_elem, beta_elem) in zip(mu_x, beta)]"
   ]
  },
  {
   "cell_type": "code",
   "execution_count": null,
   "id": "c4b4a12b",
   "metadata": {},
   "outputs": [],
   "source": [
    "# detail = 1000\n",
    "# fig = plt.figure(figsize = (20,11))    \n",
    "# #-----\n",
    "# plt.subplot(4, 2, 1)\n",
    "# plt.plot(x_f[0 : detail])\n",
    "# plt.title(\"x_f\", fontsize = 16)\n",
    "# #-----\n",
    "# plt.subplot(4, 2, 2)\n",
    "# plt.plot(x_n_f[0 : detail])\n",
    "# plt.title(\"x_n_f\", fontsize = 16)\n",
    "# #-----\n",
    "# plt.subplot(4, 2, 3)\n",
    "# plt.plot(mu_x[0 : detail])\n",
    "# #plt.plot(mu_xtest[0:detail])\n",
    "# plt.title(\"mu_x\", fontsize = 16)\n",
    "# #-----\n",
    "# plt.subplot(4, 2, 4)\n",
    "# plt.plot(diff_n[0 : detail])\n",
    "# plt.title(\"x_n_f - mu_x\", fontsize = 16)\n",
    "# #-----\n",
    "# plt.subplot(4, 2, 5)\n",
    "# plt.plot(x_f[0 : detail])\n",
    "# plt.plot(mu_x[0 : detail])\n",
    "# plt.legend(['x_f', 'mu_x'])\n",
    "# plt.title(\"x_f vs. mu_x\", fontsize = 16)\n",
    "# #-----\n",
    "# plt.subplot(4, 2, 6)\n",
    "# plt.plot(diff[0 : detail])\n",
    "# plt.title(\"x - mu_x\", fontsize = 16)\n",
    "# #-----\n",
    "# plt.subplot(4, 2, 7)\n",
    "# plt.plot(beta[0 : detail])\n",
    "# plt.title(\"beta\", fontsize = 16)\n",
    "# #-----\n",
    "# plt.subplot(4, 2, 8)\n",
    "# plt.plot(x_f[0 : detail])\n",
    "# plt.plot(s_h[0 : detail])\n",
    "# plt.legend(['x_f', 's_h'])\n",
    "# plt.title(\"s_h\", fontsize = 16)\n",
    "# #-----\n",
    "# fig.tight_layout()"
   ]
  },
  {
   "cell_type": "code",
   "execution_count": null,
   "id": "bde2fcf8",
   "metadata": {},
   "outputs": [],
   "source": [
    "%run ComputeInputOutputDeltaSNRs.ipynb\n",
    "print(ComputeInputOutputDeltaSNRs(x_f, n, mu_x))\n",
    "print(ComputeInputOutputDeltaSNRs(x_f, n, s_h))"
   ]
  },
  {
   "cell_type": "code",
   "execution_count": null,
   "id": "b2028c24",
   "metadata": {},
   "outputs": [],
   "source": [
    "tst = np.matmul(Theta, x_f)"
   ]
  },
  {
   "cell_type": "code",
   "execution_count": null,
   "id": "33ff415c",
   "metadata": {},
   "outputs": [],
   "source": [
    "plt.plot(tst)\n",
    "plt.plot(mu_xph)"
   ]
  },
  {
   "cell_type": "code",
   "execution_count": null,
   "id": "c935f451",
   "metadata": {},
   "outputs": [],
   "source": [
    "detail = 2000\n",
    "fig = plt.figure(figsize = (20,4))    \n",
    "#-----\n",
    "plt.subplot(1,3,1)\n",
    "plt.plot(x_n_f[0:detail])\n",
    "plt.plot(mu_x[0:detail])\n",
    "plt.plot(x_f[0:detail])\n",
    "plt.legend(['x_n_f','mu_s','x_f'], fontsize = 16)\n",
    "plt.title(\"mu_s\", fontsize = 16)\n",
    "#-----\n",
    "plt.subplot(1,3,2)\n",
    "plt.plot(x_n_f[0:detail])\n",
    "plt.plot(beta[0:detail])\n",
    "plt.legend(['x_n_f','beta'], fontsize = 16)\n",
    "plt.title(\"beta\", fontsize = 16)\n",
    "#-----\n",
    "plt.subplot(1,3,3)\n",
    "plt.plot(x_n_f[0:detail])\n",
    "plt.plot(s_h[0:detail])\n",
    "plt.plot(x_f[0:detail])\n",
    "plt.legend(['x_n_f','s_h','x_f'], fontsize = 16)\n",
    "plt.title(\"s_h\", fontsize = 16)\n",
    "#-----\n",
    "fig.tight_layout()"
   ]
  },
  {
   "cell_type": "code",
   "execution_count": null,
   "id": "56cfe9de",
   "metadata": {},
   "outputs": [],
   "source": [
    "%run ComputeInputOutputDeltaSNRs.ipynb\n",
    "ComputeInputOutputDeltaSNRs(x_f, n, s_h)"
   ]
  },
  {
   "cell_type": "code",
   "execution_count": null,
   "id": "0cee98c8",
   "metadata": {},
   "outputs": [],
   "source": [
    "#stop"
   ]
  },
  {
   "cell_type": "code",
   "execution_count": null,
   "id": "d8cbc892",
   "metadata": {},
   "outputs": [],
   "source": [
    "#I just modify this to see if i can correctly push the programs on Git."
   ]
  }
 ],
 "metadata": {
  "kernelspec": {
   "display_name": "Python 3 (ipykernel)",
   "language": "python",
   "name": "python3"
  },
  "language_info": {
   "codemirror_mode": {
    "name": "ipython",
    "version": 3
   },
   "file_extension": ".py",
   "mimetype": "text/x-python",
   "name": "python",
   "nbconvert_exporter": "python",
   "pygments_lexer": "ipython3",
   "version": "3.7.11"
  }
 },
 "nbformat": 4,
 "nbformat_minor": 5
}
