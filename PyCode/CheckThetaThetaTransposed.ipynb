{
 "cells": [
  {
   "cell_type": "code",
   "execution_count": 2,
   "id": "12d555f0",
   "metadata": {},
   "outputs": [],
   "source": [
    "def CheckThetaThetaTransposed(x, Tau):\n",
    "    if (Tau <= ComputeMinAndMaxHeartbeatLength(x)[0]):\n",
    "        print('[OK] Tau =', Tau, '<=', ComputeMinAndMaxHeartbeatLength(x)[0], \n",
    "              '= min(len(hb)) => Theta * Theta.T is diagonal hence invertible.')\n",
    "    else:\n",
    "        print('[ALARM!] Tau =', Tau, '>', ComputeMinAndMaxHeartbeatLength(x)[0], \n",
    "              '= min(len(hb)) => Theta * Theta.T can be singular.')"
   ]
  }
 ],
 "metadata": {
  "kernelspec": {
   "display_name": "Python 3 (ipykernel)",
   "language": "python",
   "name": "python3"
  },
  "language_info": {
   "codemirror_mode": {
    "name": "ipython",
    "version": 3
   },
   "file_extension": ".py",
   "mimetype": "text/x-python",
   "name": "python",
   "nbconvert_exporter": "python",
   "pygments_lexer": "ipython3",
   "version": "3.7.11"
  }
 },
 "nbformat": 4,
 "nbformat_minor": 5
}
