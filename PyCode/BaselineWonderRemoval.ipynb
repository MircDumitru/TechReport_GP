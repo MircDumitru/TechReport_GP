{
 "cells": [
  {
   "cell_type": "code",
   "execution_count": 2,
   "id": "7b0560c4",
   "metadata": {},
   "outputs": [],
   "source": [
    "# BASELINE WANDER EXTRACTION\n",
    "# function for baseline wander extraction. Based on a moving average (MA) and median (MD) filter.\n",
    "# the original signal is filtered with a MA filter, then with a MD filter. \n",
    "# the filtered signal is the difference between the original signal and the double filtered signal.\n",
    "%run MedianFilter.ipynb\n",
    "%run MovingAverageFilter.ipynb\n",
    "\n",
    "def BaselineWonderRemoval(signal, win_l_MA, win_l_MD, fs):\n",
    "    signal = signal - np.mean(signal)\n",
    "    win_len_MA = int(win_l_MA * fs)\n",
    "    win_len_MD = int(win_l_MD * fs)\n",
    "    bw = MedianFilter(MovingAverageFilter(signal, win_l_MA, fs), win_l_MD, fs)\n",
    "    signal_bwr = signal - bw\n",
    "    return(bw, signal_bwr)"
   ]
  }
 ],
 "metadata": {
  "kernelspec": {
   "display_name": "Python 3 (ipykernel)",
   "language": "python",
   "name": "python3"
  },
  "language_info": {
   "codemirror_mode": {
    "name": "ipython",
    "version": 3
   },
   "file_extension": ".py",
   "mimetype": "text/x-python",
   "name": "python",
   "nbconvert_exporter": "python",
   "pygments_lexer": "ipython3",
   "version": "3.7.11"
  }
 },
 "nbformat": 4,
 "nbformat_minor": 5
}
