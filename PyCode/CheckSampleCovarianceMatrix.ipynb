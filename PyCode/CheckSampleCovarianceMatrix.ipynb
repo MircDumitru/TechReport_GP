{
 "cells": [
  {
   "cell_type": "code",
   "execution_count": null,
   "id": "566ff5c8",
   "metadata": {},
   "outputs": [],
   "source": [
    "def CheckSampleCovarianceMatrix(x, Tau):\n",
    "    if (Tau <= len(x)):\n",
    "        print('[OK] Tau =', Tau, '<=', len(x), \n",
    "              '= n_hb => sampCov most probably invertible')\n",
    "    else:\n",
    "        print('[ALARM!] Tau =', Tau, '>', len(x), \n",
    "              '= n_hb => sampCov is singular (not enough heartbeats to produce a sample covariance matrix).')"
   ]
  }
 ],
 "metadata": {
  "kernelspec": {
   "display_name": "Python 3 (ipykernel)",
   "language": "python",
   "name": "python3"
  },
  "language_info": {
   "codemirror_mode": {
    "name": "ipython",
    "version": 3
   },
   "file_extension": ".py",
   "mimetype": "text/x-python",
   "name": "python",
   "nbconvert_exporter": "python",
   "pygments_lexer": "ipython3",
   "version": "3.7.11"
  }
 },
 "nbformat": 4,
 "nbformat_minor": 5
}
