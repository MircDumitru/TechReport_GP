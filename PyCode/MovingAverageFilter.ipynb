{
 "cells": [
  {
   "cell_type": "code",
   "execution_count": null,
   "id": "b622c94d",
   "metadata": {},
   "outputs": [],
   "source": [
    "# MOVING AVERAGE FILTER function\n",
    "# filter window's length win_l expressed in seconds\n",
    "def MovingAverageFilter(signal, win_l_MA, fs):\n",
    "    win_len = int(win_l_MA * fs)\n",
    "    signal_filtered = np.convolve(signal, np.ones(win_len)/win_len, mode='same')\n",
    "    return signal_filtered"
   ]
  }
 ],
 "metadata": {
  "kernelspec": {
   "display_name": "Python 3 (ipykernel)",
   "language": "python",
   "name": "python3"
  },
  "language_info": {
   "codemirror_mode": {
    "name": "ipython",
    "version": 3
   },
   "file_extension": ".py",
   "mimetype": "text/x-python",
   "name": "python",
   "nbconvert_exporter": "python",
   "pygments_lexer": "ipython3",
   "version": "3.7.11"
  }
 },
 "nbformat": 4,
 "nbformat_minor": 5
}
