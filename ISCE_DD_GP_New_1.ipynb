{
 "cells": [
  {
   "cell_type": "markdown",
   "metadata": {},
   "source": [
    "# ECG Filtering via a data driven GP model "
   ]
  },
  {
   "cell_type": "code",
   "execution_count": 54,
   "metadata": {},
   "outputs": [
    {
     "data": {
      "text/html": [
       "<style>.container { width:99% !important; }</style>"
      ],
      "text/plain": [
       "<IPython.core.display.HTML object>"
      ]
     },
     "metadata": {},
     "output_type": "display_data"
    }
   ],
   "source": [
    "from IPython.core.display import display, HTML\n",
    "display(HTML(\"<style>.container { width:99% !important; }</style>\"))"
   ]
  },
  {
   "cell_type": "code",
   "execution_count": 2,
   "metadata": {},
   "outputs": [],
   "source": [
    "import os\n",
    "import sys\n",
    "\n",
    "import wfdb\n",
    "\n",
    "import time\n",
    "\n",
    "import numpy as np\n",
    "from numpy.linalg import norm\n",
    "from numpy.linalg import inv\n",
    "import random as rnd\n",
    "import math as mth\n",
    "\n",
    "import scipy.signal as scsig\n",
    "import scipy.linalg as sclin\n",
    "import matplotlib.pyplot as plt\n",
    "# import scipy.stats as scstat\n",
    "# import scipy.ndimage as scndi"
   ]
  },
  {
   "cell_type": "markdown",
   "metadata": {},
   "source": [
    "## Plotting Functions"
   ]
  },
  {
   "cell_type": "code",
   "execution_count": 3,
   "metadata": {},
   "outputs": [],
   "source": [
    "def func_plot_check(tm, pks, mids, s, ecg_clean, ecg_bwr, ecg_bp1, ecg_bp, ecg_tan, ecg_sq, ecg_MA_sq):\n",
    "    plt.figure(figsize=(18,20))\n",
    "    \n",
    "    plt.subplot(8, 1, 1).set_title('signal')\n",
    "    plt.plot(s)\n",
    "    \n",
    "    plt.subplot(8, 1, 2).set_title('clean ecg [chunk of signal]')\n",
    "    plt.plot(tm, ecg_clean)\n",
    "    \n",
    "    plt.subplot(8, 1, 3).set_title('ecg bw removed')\n",
    "    plt.plot(tm, ecg_bwr)\n",
    "    plt.plot(tm[pks], ecg_bwr[pks], 'o')\n",
    "    plt.plot(tm[mids], ecg_bwr[mids], 'o')\n",
    "    \n",
    "    plt.subplot(8, 1, 4).set_title('ecg low BP filt')\n",
    "    plt.plot(tm, ecg_bp1)\n",
    "    \n",
    "    plt.subplot(8, 1, 5).set_title('ecg high BP filt')\n",
    "    plt.plot(tm, ecg_bp)\n",
    "    \n",
    "    plt.subplot(8, 1, 6).set_title('ecg tan filt [saturation]')\n",
    "    plt.plot(tm, ecg_tan)\n",
    "    \n",
    "    plt.subplot(8, 1, 7).set_title('ecg sq filt')\n",
    "    plt.plot(tm, ecg_sq)\n",
    "    \n",
    "    plt.subplot(8, 1, 8).set_title('ecg MA_sq filt')\n",
    "    plt.plot(tm, ecg_MA_sq)\n",
    "    plt.show()    "
   ]
  },
  {
   "cell_type": "code",
   "execution_count": 4,
   "metadata": {},
   "outputs": [],
   "source": [
    "# def func_plot_comparison(xhbf_n, xhbf, s_hat, n, detail, name, noise_db, algo):\n",
    "#     plt.figure(figsize=(18,10))    \n",
    "\n",
    "#     plt.subplot(5,1,1)\n",
    "#     plt.plot(xhbf_n)\n",
    "#     plt.plot(s_hat)\n",
    "#     plt.legend(['x', '$\\hat{s}$'], loc = 'upper right', fontsize = 14)\n",
    "\n",
    "#     plt.subplot(5,1,2)\n",
    "#     plt.plot(xhbf)\n",
    "#     plt.plot(s_hat)\n",
    "#     plt.legend(['s', '$\\hat{s}$'], loc = 'upper right', fontsize = 14)\n",
    "\n",
    "#     plt.subplot(5,1,3)\n",
    "#     plt.plot(n)\n",
    "#     plt.plot(xhbf_n - s_hat)\n",
    "#     plt.legend(['n','$\\hat{n}$'], loc = 'upper right', fontsize = 14)\n",
    "\n",
    "#     plt.subplot(5,1,4)\n",
    "#     plt.plot(xhbf_n[0 : detail])\n",
    "#     plt.plot(s_hat[0 : detail])\n",
    "#     plt.legend(['x', '$\\hat{s}$'], loc = 'upper right', fontsize = 14)\n",
    "\n",
    "#     plt.subplot(5,1,5)\n",
    "#     plt.plot(xhbf[0 : detail])\n",
    "#     plt.plot(s_hat[0 : detail])\n",
    "#     plt.legend(['s', '$\\hat{s}$'], loc = 'upper right', fontsize = 14)\n",
    "\n",
    "#     plt.savefig(\"EpsFigs/\" + name + '_' + str(noise_db) + 'dB_' + algo +'.eps', \n",
    "#                 format = 'eps', \n",
    "#                 bbox_inches='tight', \n",
    "#                 transparent = False)\n",
    "#     plt.show()"
   ]
  },
  {
   "cell_type": "code",
   "execution_count": 5,
   "metadata": {},
   "outputs": [],
   "source": [
    "# def plot_tests(Theta, Rho, x_n_f, x_n, s_h, detail):\n",
    "#     fig = plt.figure(figsize = (24, 12))\n",
    "#     #----- ---- --- -- -\n",
    "#     plt.subplot(3, 2, 1)\n",
    "#     plt.imshow(Rho)\n",
    "#     plt.colorbar()\n",
    "#     plt.title(\" Rho \")\n",
    "#     #----- ---- --- -- -\n",
    "#     H = Theta.T * Rho * Theta\n",
    "#     plt.subplot(3, 2, 2)\n",
    "#     plt.imshow(H[0 : detail, 0 : detail])\n",
    "#     plt.colorbar()\n",
    "#     plt.title(\" Th' * Rho * Th \")\n",
    "#     #----- ---- --- -- -\n",
    "#     plt.subplot(3, 2, (3,4))\n",
    "#     plt.plot(x_n_f[0 : detail], label = 'x_n_f')\n",
    "#     plt.plot(x_f[0 : detail], label = 'x_f')\n",
    "#     plt.plot(s_h[0 : detail], label = 's_h')\n",
    "#     plt.legend()\n",
    "#     #----- ---- --- -- -\n",
    "#     plt.subplot(3, 2, 5)\n",
    "#     plt.plot(x_n_f[0 : detail] - s_h[0 : detail], \n",
    "#              label = 'x_n_f - s_h')\n",
    "#     plt.legend()\n",
    "#     #----- ---- --- -- -\n",
    "#     plt.subplot(3, 2, 6)\n",
    "#     plt.plot(x_f[0 : detail] - s_h[0 : detail], \n",
    "#              label = 'x_f - s_h')\n",
    "#     plt.legend()\n",
    "#     #----- ---- --- -- -\n",
    "#     fig.tight_layout()\n",
    "#     plt.show()    "
   ]
  },
  {
   "cell_type": "code",
   "execution_count": 6,
   "metadata": {},
   "outputs": [],
   "source": [
    "def plot_all(x, xph, var_xph, var_n, diagRho, mu_xph, s, tit1, tit2, detail):\n",
    "    fig = plt.figure(figsize = (22, 10))\n",
    "    plot_ecg(x, tit1, 4, 1)\n",
    "    plot_ecg(xph, tit2, 4, 2)\n",
    "    plot_vars(var_xph, var_n, diagRho, mu_xph, tit2, 4, 3)\n",
    "    plot_comp(x, s, 4, 4, detail)\n",
    "    fig.tight_layout()\n",
    "    plt.show()"
   ]
  },
  {
   "cell_type": "code",
   "execution_count": 7,
   "metadata": {},
   "outputs": [],
   "source": [
    "def plot_transition(x, xph, mu_xph, var_xph):\n",
    "    fig = plt.figure(figsize = (22, 4))\n",
    "    plt.subplot(1, 3, 1)\n",
    "    for i in np.arange(len(x)):\n",
    "        plt.plot(x[i])\n",
    "    plt.title('heartbeats')\n",
    "    #-----\n",
    "    plt.subplot(1, 3, 2)\n",
    "    for i in np.arange(len(xph)):\n",
    "        plt.plot(xph[i])\n",
    "    plt.title('heartbeats ph')\n",
    "    #-----\n",
    "    plt.subplot(1, 3, 3)\n",
    "    plt.plot(mu_xph, lw = 3, color = 'magenta')\n",
    "    plt.fill_between(np.arange(len(mu_xph)),\n",
    "                     np.concatenate(mu_xph, axis=0) - var_xph,\n",
    "                     np.concatenate(mu_xph, axis=0) + var_xph,\n",
    "                     color = 'gray',\n",
    "                     alpha = 0.2)\n",
    "    plt.title('average heartbeat ph')\n",
    "    fig.tight_layout()\n",
    "    plt.savefig('Figs/pISCE_GP_Trans.eps', format = 'eps', bbox_inches='tight')\n",
    "    plt.savefig('Figs/pISCE_GP_Trans.png', format = 'png', bbox_inches='tight')    \n",
    "    plt.show()"
   ]
  },
  {
   "cell_type": "code",
   "execution_count": 8,
   "metadata": {},
   "outputs": [],
   "source": [
    "def plot_transitionFS(x, xph, mu_xph, var_xph, fs):\n",
    "    fig = plt.figure(figsize = (22, 4))\n",
    "    plt.subplot(1, 3, 1)\n",
    "    for i in np.arange(len(x)):\n",
    "        plt.plot(np.arange(len(x[i]))/fs, x[i])\n",
    "    plt.title('heartbeats')\n",
    "    #-----\n",
    "    plt.subplot(1, 3, 2)\n",
    "    for i in np.arange(len(xph)):\n",
    "        plt.plot(np.arange(len(xph[i]))/fs, xph[i])\n",
    "    plt.title('heartbeats ph')\n",
    "    #-----\n",
    "    plt.subplot(1, 3, 3)\n",
    "    plt.plot(np.arange(len(mu_xph))/fs, mu_xph, lw = 3, color = 'magenta')\n",
    "    #plt.fill_between(np.arange(len(mu_xph)),\n",
    "    #                 np.concatenate(mu_xph, axis=0) - var_xph,\n",
    "    #                 np.concatenate(mu_xph, axis=0) + var_xph,\n",
    "    #                 color = 'gray',\n",
    "    #                 alpha = 0.2)\n",
    "    plt.title('average heartbeat ph')\n",
    "    fig.tight_layout()\n",
    "    plt.savefig('Figs/pISCE_GP_TransFS.eps', format = 'eps', bbox_inches='tight')\n",
    "    plt.savefig('Figs/pISCE_GP_TransFS.png', format = 'png', bbox_inches='tight')\n",
    "    plt.show()"
   ]
  },
  {
   "cell_type": "code",
   "execution_count": 9,
   "metadata": {},
   "outputs": [],
   "source": [
    "def plot_transitionFS2(x, xph, mu_xph, var_xph, fs, target):\n",
    "    x_f = np.concatenate(x, axis=0).tolist()  \n",
    "    fig = plt.figure(figsize = (22, 8))\n",
    "    plt.subplot(2, 2, 1)    \n",
    "    plt.title('ECG', fontsize = 16)\n",
    "    plt.xlabel(\"time [seconds]\", fontsize = 16)\n",
    "    plt.ylabel(\"amp [mV]\", fontsize = 16)\n",
    "    plt.plot(np.arange(len(x_f[0:8000]))/fs, x_f[0:8000])\n",
    "\n",
    "    #-----\n",
    "    plt.subplot(2, 2, 3)\n",
    "    plt.title('heartbeats', fontsize = 16)\n",
    "    plt.xlabel(\"time [seconds]\", fontsize = 16)\n",
    "    plt.ylabel(\"amp [mV]\", fontsize = 16)    \n",
    "    for i in np.arange(len(x)):\n",
    "        plt.plot(np.arange(len(x[i]))/fs, x[i])\n",
    "    #-----\n",
    "    plt.subplot(2, 2, 4)\n",
    "    plt.title('heartbeats phase', fontsize = 16)\n",
    "    plt.xlabel(\"time [seconds]\", fontsize = 16)\n",
    "    plt.ylabel(\"amp [mV]\", fontsize = 16)    \n",
    "    for i in np.arange(len(xph)):\n",
    "        plt.plot(np.arange(len(xph[i]))/fs, xph[i])\n",
    "    #-----\n",
    "    plt.subplot(2, 2, 2)\n",
    "    plt.title('average heartbeat phase', fontsize = 16)\n",
    "    plt.xlabel(\"time [seconds]\", fontsize = 16)\n",
    "    plt.ylabel(\"amp [mV]\", fontsize = 16)    \n",
    "    plt.plot(np.arange(len(mu_xph))/fs, mu_xph, lw = 3, color = 'magenta')\n",
    "    plt.fill_between(np.arange(len(mu_xph))/fs,\n",
    "                     np.concatenate(mu_xph, axis=0) - var_xph,\n",
    "                     np.concatenate(mu_xph, axis=0) + var_xph,\n",
    "                     color = 'gray',\n",
    "                     alpha = 0.2)\n",
    "    fig.tight_layout()\n",
    "    plt.savefig(target + '.eps', format = 'eps', bbox_inches='tight')\n",
    "    plt.savefig(target + '.png', format = 'png', bbox_inches='tight')\n",
    "    plt.show()"
   ]
  },
  {
   "cell_type": "code",
   "execution_count": 10,
   "metadata": {},
   "outputs": [],
   "source": [
    "def plot_ecg(signal, tit, i, line):\n",
    "    #-----\n",
    "    plt.subplot(i, 3, 3 * (line-1) + 1)\n",
    "    plt.plot(np.concatenate(signal, axis=0).tolist(), \n",
    "             label = 'l2 = ' + str(norm(np.concatenate(signal, axis=0).tolist(), 2)))\n",
    "    plt.title(tit)\n",
    "    plt.legend(fontsize = 13, \n",
    "               loc = 'upper right')\n",
    "    #-----\n",
    "    plt.subplot(i, 3,  3 * (line-1) + 2)\n",
    "    plt.plot(signal[0])\n",
    "    plt.title(tit + ' one hb')\n",
    "    #-----\n",
    "    plt.subplot(i, 3,  3 * (line-1) + 3)\n",
    "    for i in np.arange(len(x)):\n",
    "        plt.plot(signal[i])\n",
    "    plt.title(tit + ' all hbs')\n",
    "    #-----"
   ]
  },
  {
   "cell_type": "code",
   "execution_count": 11,
   "metadata": {},
   "outputs": [],
   "source": [
    "def plot_vars(var_xph, var_n, diagRho, mu_xph, tit, i, line):\n",
    "    #-----\n",
    "    plt.subplot(i, 3, 3 * (line-1) + 1)\n",
    "    plt.plot(var_xph, \n",
    "             label = 'var_' + tit)\n",
    "    plt.plot(var_n * np.ones(len(var_xph)), \n",
    "             label = 'var_n = ' + str(\"{:.4f}\".format(var_n)))\n",
    "    plt.legend(fontsize = 13, \n",
    "               loc = 'upper right')\n",
    "    plt.title('var_' + tit)    \n",
    "    #-----\n",
    "    plt.subplot(i, 3, 3 * (line-1) + 2)\n",
    "    plt.plot(diagRho, \n",
    "             label = 'diag')\n",
    "    plt.legend(fontsize = 13, \n",
    "               loc = 'upper right')\n",
    "    plt.title(\"Rho diag\")\n",
    "    #-----\n",
    "    plt.subplot(i, 3, 3 * (line-1) + 3)\n",
    "    plt.plot(mu_xph,\n",
    "             lw = 3,\n",
    "             color = 'magenta',\n",
    "             label = 'l2 = ' + str(\"{:.4f}\".format(norm(mu_xph))))\n",
    "    plt.fill_between(np.arange(len(mu_xph)),\n",
    "                     np.concatenate(mu_xph, axis=0) - var_xph,\n",
    "                     np.concatenate(mu_xph, axis=0) + var_xph,\n",
    "                     color = 'gray',\n",
    "                     alpha = 0.2)\n",
    "    plt.legend(fontsize = 13, \n",
    "               loc = 'upper right')\n",
    "    plt.title('mu_' + tit)    \n",
    "    #-----"
   ]
  },
  {
   "cell_type": "code",
   "execution_count": 12,
   "metadata": {},
   "outputs": [],
   "source": [
    "def plot_ThThT(Theta, Rho, st, en):\n",
    "    ThThT = np.matmul(Theta, Theta.T) \n",
    "    Filt = np.matmul(np.matmul(Theta.T, Rho), Theta)\n",
    "    fig = plt.figure(figsize = (22,5))    \n",
    "    #-----\n",
    "    plt.subplot(1,4,1)\n",
    "    plt.imshow(Rho)\n",
    "    plt.colorbar()\n",
    "    plt.title(\"Rho\")\n",
    "    #-----\n",
    "    plt.subplot(1,4,2)\n",
    "    plt.imshow(ThThT)\n",
    "    plt.colorbar()\n",
    "    plt.title(\"Theta * Theta.T\")    \n",
    "    #-----\n",
    "    plt.subplot(1,4,3)\n",
    "    plt.imshow(ThThT[st:en,st:en])\n",
    "    plt.colorbar()\n",
    "    plt.title(\"Theta * Theta.T detail\")        \n",
    "    #-----\n",
    "    plt.subplot(1,4,4)\n",
    "    plt.imshow(Filt[st:en,st:en])\n",
    "    plt.colorbar()\n",
    "    plt.title(\"Filt detail\")         \n",
    "    #-----\n",
    "    fig.tight_layout()"
   ]
  },
  {
   "cell_type": "code",
   "execution_count": 13,
   "metadata": {},
   "outputs": [],
   "source": [
    "def plot_comp(x, s, i, line, detail):\n",
    "    plt.subplot(i, 1, 4)        \n",
    "    plt.plot(np.concatenate(x, axis=0).tolist()[0 : detail], label = 'x')\n",
    "    plt.plot(s[0 : detail], label = 's')\n",
    "    plt.legend(fontsize = 14,\n",
    "              loc = 'upper right')\n",
    "    plt.title(\"comparison\")"
   ]
  },
  {
   "cell_type": "code",
   "execution_count": 14,
   "metadata": {},
   "outputs": [],
   "source": [
    "def plot_sample_covariances(S_xph, var_xph, S_sph, var_sph, st, en):\n",
    "    fig = plt.figure(figsize = (22,9))    \n",
    "    #-----\n",
    "    plt.subplot(2,3,1)\n",
    "    plt.title('Samp Cov x_ph')\n",
    "    plt.imshow(S_xph)\n",
    "    plt.colorbar()\n",
    "    #-----\n",
    "    plt.subplot(2,3,2)\n",
    "    plt.title('Samp Cov x_ph [detail]')\n",
    "    plt.imshow(S_xph[st:en, st:en])\n",
    "    plt.colorbar()\n",
    "    #-----\n",
    "    plt.subplot(2,3,3)\n",
    "    plt.title('var x_ph')\n",
    "    plt.plot(var_xph)\n",
    "    #-----\n",
    "    plt.subplot(2,3,4)\n",
    "    plt.title('Samp Cov s_ph')\n",
    "    plt.imshow(S_sph)\n",
    "    plt.colorbar()\n",
    "    #-----\n",
    "    plt.subplot(2,3,5)\n",
    "    plt.title('Samp Cov s_ph [detail]')\n",
    "    plt.imshow(S_sph[st:en, st:en])\n",
    "    plt.colorbar()\n",
    "    #-----\n",
    "    plt.subplot(2,3,6)\n",
    "    plt.title('var s_ph')\n",
    "    plt.plot(var_sph)\n",
    "    #-----\n",
    "    fig.tight_layout()"
   ]
  },
  {
   "cell_type": "markdown",
   "metadata": {},
   "source": [
    "## Functions"
   ]
  },
  {
   "cell_type": "code",
   "execution_count": 15,
   "metadata": {},
   "outputs": [],
   "source": [
    "# MOVING AVERAGE FILTER function\n",
    "# filter window's length win_l expressed in seconds\n",
    "def func_MA_filter(signal, win_l_MA, fs):\n",
    "    win_len = int(win_l_MA * fs)\n",
    "    signal_filtered = np.convolve(signal, np.ones(win_len)/win_len, mode='same')\n",
    "    return signal_filtered"
   ]
  },
  {
   "cell_type": "code",
   "execution_count": 16,
   "metadata": {},
   "outputs": [],
   "source": [
    "# MEDIAN FILTER function\n",
    "# filter window's length win_l expressed in seconds!\n",
    "def func_MD_filter(signal, win_l_MD, fs):\n",
    "    win_len = int(win_l_MD * fs)\n",
    "    signal_filtered = scsig.medfilt(signal, win_len)\n",
    "    return signal_filtered"
   ]
  },
  {
   "cell_type": "code",
   "execution_count": 17,
   "metadata": {},
   "outputs": [],
   "source": [
    "# BASELINE WANDER EXTRACTION\n",
    "# function for baseline wander extraction. Based on a moving average (MA) and median (MD) filter.\n",
    "# the original signal is filtered with a MA filter, then with a MD filter. \n",
    "# the filtered signal is the difference between the original signal and the double filtered signal.\n",
    "def func_bw_extraction_MAMD(signal, win_l_MA, win_l_MD, fs):\n",
    "    signal = signal - np.mean(signal)\n",
    "    win_len_MA = int(win_l_MA * fs)\n",
    "    win_len_MD = int(win_l_MD * fs)\n",
    "    bw = func_MD_filter(func_MA_filter(signal, win_l_MA, fs), win_l_MD, fs)\n",
    "    signal_bwr = signal - bw\n",
    "    return(bw, signal_bwr)"
   ]
  },
  {
   "cell_type": "code",
   "execution_count": 18,
   "metadata": {},
   "outputs": [],
   "source": [
    "def func_interpolate_nans(signal):\n",
    "    nan_inds = np.isnan(signal)\n",
    "    non_nan_inds = np.logical_not(nan_inds)\n",
    "    non_nan_sig = signal[non_nan_inds]\n",
    "    interpolated = np.interp(nan_inds.nonzero()[0], non_nan_inds.nonzero()[0], non_nan_sig)\n",
    "    signal[nan_inds] = interpolated\n",
    "    return signal"
   ]
  },
  {
   "cell_type": "code",
   "execution_count": 19,
   "metadata": {},
   "outputs": [],
   "source": [
    "def func_BP_filter(signal, k_BP, fc):\n",
    "    alpha = (1 - k_BP*np.cos(2*np.pi*fc) - np.sqrt(2*k_BP*(1-np.cos(2*np.pi*fc)) - k_BP**2 * np.sin(2 * np.pi * fc)**2))/(1-k_BP)\n",
    "    signal_f = scsig.filtfilt(1-alpha, [1, -alpha], signal)\n",
    "    return(signal_f)"
   ]
  },
  {
   "cell_type": "code",
   "execution_count": 20,
   "metadata": {},
   "outputs": [],
   "source": [
    "def func_detect_peaks(signal, frac, win_l_calib, win_l_peak_search, fs):        \n",
    "    k_BP = .7     # cut-off value\n",
    "    flc = 15/fs\n",
    "    ecg_bp1 = func_BP_filter(signal, k_BP, flc)    \n",
    "    #\n",
    "    k_BP = .7     # cut-off value    \n",
    "    fuc = 45/fs\n",
    "    ecg_bp = func_BP_filter(ecg_bp1, k_BP, fuc)\n",
    "    #\n",
    "    k_tan = 4\n",
    "    alpha = k_tan * np.std(ecg_bp)\n",
    "    ecg_tan = alpha*np.tanh(ecg_bp/alpha)\n",
    "    #\n",
    "    #ecg_sq = ecg_tan**2\n",
    "    ecg_sq = np.abs(ecg_tan)\n",
    "    #\n",
    "    wind_len_MA = .1\n",
    "    ecg_MA_sq = ecg_sq\n",
    "    #ecg_MA_sq = np.sqrt(func_MA_filter(ecg_sq, wind_len_MA, fs))\n",
    "    #\n",
    "    maxecg = max(ecg_MA_sq)\n",
    "    heightlim = frac * maxecg\n",
    "    peaks, _ = scsig.find_peaks(ecg_MA_sq, distance = win_l_peak_search*fs, height = heightlim)            \n",
    "    #\n",
    "    #print(\"peaks raw (as per the detector)\", peaks)\n",
    "    wind_len_hf = int(win_l_calib * fs)\n",
    "    pks = []\n",
    "    for i in range(len(peaks)):\n",
    "        if(i == 0):\n",
    "            wind = np.arange(peaks[i], peaks[i]+wind_len_hf, 1)\n",
    "            ecg_bwr_win = signal[wind]\n",
    "            p = peaks[i] + np.argmax(ecg_bwr_win**2)   \n",
    "        elif(i == len(peaks) - 1):\n",
    "            wind = np.arange(peaks[i] - wind_len_hf, peaks[i], 1)            \n",
    "            ecg_bwr_win = signal[wind]\n",
    "            p = peaks[i]- wind_len_hf + np.argmax(ecg_bwr_win**2)                \n",
    "        else:\n",
    "            wind = np.arange(peaks[i] - wind_len_hf, peaks[i] + wind_len_hf, 1)\n",
    "            ecg_bwr_win = signal[wind]\n",
    "            p = peaks[i]- wind_len_hf + np.argmax(ecg_bwr_win**2)                            \n",
    "        pks.append(p)    \n",
    "\n",
    "    return(ecg_bp1, ecg_bp, ecg_tan, ecg_sq, ecg_MA_sq, peaks, np.array(pks))"
   ]
  },
  {
   "cell_type": "code",
   "execution_count": 21,
   "metadata": {},
   "outputs": [],
   "source": [
    "# MIDDLE DETECTION\n",
    "# I am using this convention that a heartbeat is starting at the middle point between two R peaks and ends up\n",
    "# at the middle point between the next two R peaks. \n",
    "def func_detect_middles(peaks,signal_length):\n",
    "    mids = []\n",
    "    for i in range(len(peaks)-1):        \n",
    "        mid = peaks[i] + int(np.floor((peaks[i+1] - peaks[i])/2))\n",
    "        mids.append(mid)\n",
    "        \n",
    "    mid = peaks[0] - int(np.floor((peaks[1] - peaks[0])/2))\n",
    "    if(mid >= 0):\n",
    "        mids.insert(0, mid)\n",
    "    \n",
    "    mid = peaks[-1] + int(np.floor((peaks[-1] - peaks[-2])/2))\n",
    "    if(mid <= signal_length):\n",
    "        mids.append(mid)        \n",
    "    mids = np.array(mids)    \n",
    "    return mids    "
   ]
  },
  {
   "cell_type": "code",
   "execution_count": 22,
   "metadata": {},
   "outputs": [],
   "source": [
    "def func_reorder_peaks(peaks,mids):\n",
    "    if(peaks[0]<mids[0] and peaks[-1]>mids[-1]):\n",
    "        pks = peaks[1:-1]\n",
    "        #print(\"case 1\")\n",
    "    elif(peaks[0]<mids[0]):\n",
    "        pks = peaks[1:]\n",
    "        #print(\"case 2\")    \n",
    "    elif(peaks[-1]>mids[-1]):\n",
    "        pks = peaks[:-1]\n",
    "        #print(\"case 3\")    \n",
    "    else:\n",
    "        pks = peaks\n",
    "    return(pks)"
   ]
  },
  {
   "cell_type": "code",
   "execution_count": 23,
   "metadata": {},
   "outputs": [],
   "source": [
    "def func_heartbeats(ecg_bwr, mids):\n",
    "    x_hbs = []\n",
    "    for i in range(len(mids)-1):\n",
    "        x_hb = ecg_bwr[mids[i]:mids[i+1]]\n",
    "        x_hbs.append(x_hb)\n",
    "    return(x_hbs)    "
   ]
  },
  {
   "cell_type": "code",
   "execution_count": 24,
   "metadata": {},
   "outputs": [],
   "source": [
    "# def set_start(i, bin_len):\n",
    "#     if ((i * bin_len) != 0 and (i * bin_len).is_integer() == True):\n",
    "#         chunk_start = int(np.ceil(i * bin_len))+1\n",
    "#     else:\n",
    "#         chunk_start = int(np.ceil(i * bin_len))\n",
    "#     return chunk_start"
   ]
  },
  {
   "cell_type": "code",
   "execution_count": 25,
   "metadata": {},
   "outputs": [],
   "source": [
    "# def func_mapping(seg, Tau):\n",
    "#     mapped_seg = []\n",
    "#     bin_len = len(seg) / Tau\n",
    "#     #print(\"bin lenght:\", bin_len)\n",
    "#     Theta = np.asmatrix(np.zeros((Tau, len(seg))))\n",
    "#     for i in np.arange(Tau):\n",
    "#         chunk_start = set_start(i, bin_len)\n",
    "#         chunk_end = np.minimum(len(seg), int(np.floor((i+1) * bin_len)) + 1)        \n",
    "#         chunk = seg[chunk_start : chunk_end]                \n",
    "#         if(len(chunk) == 0): \n",
    "#             ratio = np.nan\n",
    "#         else:    \n",
    "#             ratio = np.sum(chunk) / np.sqrt(len(chunk))\n",
    "#         #print(i, chunk_start, chunk_end, ratio)\n",
    "#         mapped_seg.append(ratio)\n",
    "#         Theta[i, chunk_start : chunk_end] = 1    \n",
    "#     return mapped_seg, Theta"
   ]
  },
  {
   "cell_type": "code",
   "execution_count": 26,
   "metadata": {},
   "outputs": [],
   "source": [
    "# def func_sig_phased(xhb, pshb, Tau):\n",
    "#     yhb = []\n",
    "#     Theta = []\n",
    "#     for i, hb in enumerate(xhb):\n",
    "#         y1, Th1 = func_mapping(hb[:pshb[i]], int(Tau/2))\n",
    "#         y2, Th2 = func_mapping(hb[pshb[i]:], int(Tau/2))\n",
    "#         y = np.concatenate([y1, y2])\n",
    "#         Th = np.asmatrix(sclin.block_diag(Th1, Th2))\n",
    "#         #Th = func_correct_Th(Th)\n",
    "#         Th = Th / np.sqrt(Th.sum(1))\n",
    "#         y = func_interpolate_nans(y)\n",
    "#         yhb.append(y)\n",
    "#         Theta.append(Th)\n",
    "#     return yhb, Theta"
   ]
  },
  {
   "cell_type": "code",
   "execution_count": 27,
   "metadata": {},
   "outputs": [],
   "source": [
    "def func_add_noise(target_snr_db, s):\n",
    "    s = np.asanyarray(s)\n",
    "    var_n = np.mean(s**2) / (10**(target_snr_db/10))\n",
    "    n = np.random.normal(0, np.sqrt(var_n), len(s))    \n",
    "    s_n = s + n # noise up the original signal\n",
    "    return s_n, n, var_n"
   ]
  },
  {
   "cell_type": "code",
   "execution_count": 28,
   "metadata": {},
   "outputs": [],
   "source": [
    "# def get_min_max(x):\n",
    "#     lenghts = []\n",
    "#     for hb in x:\n",
    "#         lenghts.append(len(hb))\n",
    "#     return np.min(lenghts), np.max(lenghts)"
   ]
  },
  {
   "cell_type": "markdown",
   "metadata": {},
   "source": [
    "### Phase domain: signal in phase domain, transformation matrix"
   ]
  },
  {
   "cell_type": "code",
   "execution_count": 29,
   "metadata": {},
   "outputs": [],
   "source": [
    "def get_sigphase_and_transfmat(x, pshb, Tau):\n",
    "    xph = []\n",
    "    Theta = []\n",
    "    for i, hb in enumerate(x):\n",
    "        hb1 = hb[0:pshb[i]]\n",
    "        Th1, hb1_ph = get_theta_and_phase(hb1, int(Tau/2))\n",
    "        #----- ---- --- -- -    \n",
    "        hb2 = hb[pshb[i]:]\n",
    "        Th2, hb2_ph = get_theta_and_phase(hb2, int(Tau/2))\n",
    "        #----- ---- --- -- -            \n",
    "        # fabricate the phase heartbeat as concatenation\n",
    "        hb_ph = np.concatenate([hb1_ph, hb2_ph])        \n",
    "        # fabricate the Th as diagonal concatenation\n",
    "        Th = np.zeros((Th1.shape[0] + Th2.shape[0], Th1.shape[1] + Th2.shape[1]))\n",
    "        Th[0 : Th1.shape[0], 0 : Th1.shape[1]] = Th1\n",
    "        Th[Th1.shape[0] : Th1.shape[0] + Th2.shape[0], Th1.shape[1] : Th1.shape[1] + Th2.shape[1]] = Th2    \n",
    "        Th = Th/np.sqrt(Th.sum(axis=1)[:,None])\n",
    "        #----- ---- --- -- -        \n",
    "        xph.append(hb_ph) \n",
    "        Theta.append(Th)      \n",
    "    return xph, Theta"
   ]
  },
  {
   "cell_type": "code",
   "execution_count": 30,
   "metadata": {},
   "outputs": [],
   "source": [
    "def get_theta_and_phase(hb, Tau):\n",
    "    #print(len(hb), Tau)\n",
    "    ints = get_intervals(len(hb), Tau)\n",
    "    #---\n",
    "    T = np.zeros((Tau, len(hb)))\n",
    "    hbph = [] * Tau\n",
    "    #---\n",
    "    for i in np.arange(Tau):\n",
    "        start = int(np.ceil(ints[i]))\n",
    "        end = int(np.ceil(ints[i+1]))\n",
    "        if(start == end):\n",
    "            if(start > 0):\n",
    "                start = start - 1\n",
    "            if(end < len(hb)):\n",
    "                end = end + 1\n",
    "        T[i, np.arange(start, end)] = 1/np.sqrt(len(hb[start:end]))\n",
    "        hbph.append(sum(hb[start:end])/np.sqrt(len(hb[start:end])))\n",
    "    return T, hbph"
   ]
  },
  {
   "cell_type": "code",
   "execution_count": 31,
   "metadata": {},
   "outputs": [],
   "source": [
    "def get_intervals(n,m):\n",
    "    step = n / (m+1)\n",
    "    ints = []\n",
    "    for i in np.arange(m + 1):\n",
    "        ints.append(i * step)\n",
    "    return ints"
   ]
  },
  {
   "cell_type": "code",
   "execution_count": 32,
   "metadata": {},
   "outputs": [],
   "source": [
    "def create_Theta(Th):\n",
    "    Theta = Th[0].tolist()\n",
    "    for i in np.arange(len(Th)-1):\n",
    "        Theta = np.concatenate((Theta,Th[i+1].tolist()), axis = 1)\n",
    "    Theta = np.asmatrix(Theta)\n",
    "    Theta = Theta / np.sqrt(len(Th))\n",
    "    return Theta"
   ]
  },
  {
   "cell_type": "markdown",
   "metadata": {},
   "source": [
    "### Phase domain: signal in phase domain, transformation matrix (General)"
   ]
  },
  {
   "cell_type": "code",
   "execution_count": 33,
   "metadata": {},
   "outputs": [],
   "source": [
    "def get_sigphase_and_transfmat2(x, pshb, Tau):\n",
    "    xph = []\n",
    "    Theta = []\n",
    "    for i, hb in enumerate(x):\n",
    "        hb1 = hb[0:pshb[i]]\n",
    "        Th1, hb1_ph = get_theta_and_phase2(hb1, int(Tau/2))\n",
    "        #----- ---- --- -- -    \n",
    "        hb2 = hb[pshb[i]:]\n",
    "        Th2, hb2_ph = get_theta_and_phase2(hb2, int(Tau/2))\n",
    "        #----- ---- --- -- -            \n",
    "        # fabricate the phase heartbeat as concatenation\n",
    "        hb_ph = np.concatenate([hb1_ph, hb2_ph])        \n",
    "        # fabricate the Th as diagonal concatenation\n",
    "        Th = np.zeros((Th1.shape[0] + Th2.shape[0], Th1.shape[1] + Th2.shape[1]))\n",
    "        Th[0 : Th1.shape[0], 0 : Th1.shape[1]] = Th1\n",
    "        Th[Th1.shape[0] : Th1.shape[0] + Th2.shape[0], Th1.shape[1] : Th1.shape[1] + Th2.shape[1]] = Th2    \n",
    "        Th = Th/np.sqrt(Th.sum(axis=1)[:,None])\n",
    "        #----- ---- --- -- -        \n",
    "        xph.append(hb_ph) \n",
    "        Theta.append(Th)      \n",
    "    return xph, Theta"
   ]
  },
  {
   "cell_type": "code",
   "execution_count": 34,
   "metadata": {},
   "outputs": [],
   "source": [
    "def get_theta_and_phase2(hb, Tau):\n",
    "    #print(len(hb), Tau)\n",
    "    ints = get_intervals(len(hb), Tau)\n",
    "    #---\n",
    "    T = np.zeros((Tau, len(hb)))\n",
    "    hbph = [] * Tau\n",
    "    #---\n",
    "    for i in np.arange(Tau):\n",
    "        start = int(np.ceil(ints[i]))\n",
    "        end = int(np.ceil(ints[i+1]))\n",
    "        if(start == end):\n",
    "            if(start > 0):\n",
    "                start = start - 1\n",
    "            if(end < len(hb)):\n",
    "                end = end + 1\n",
    "        T[i, np.arange(start, end)] = 1/len(hb[start:end])\n",
    "        hbph.append(sum(hb[start:end])/len(hb[start:end]))\n",
    "    return T, hbph"
   ]
  },
  {
   "cell_type": "code",
   "execution_count": 35,
   "metadata": {},
   "outputs": [],
   "source": [
    "def create_Theta2(Th):\n",
    "    Theta = Th[0].tolist()\n",
    "    for i in np.arange(len(Th)-1):\n",
    "        Theta = np.concatenate((Theta,Th[i+1].tolist()), axis = 1)\n",
    "    #Theta = np.asmatrix(Theta)\n",
    "    Theta = Theta / len(Th)\n",
    "    return Theta"
   ]
  },
  {
   "cell_type": "markdown",
   "metadata": {},
   "source": [
    "### Covariance computation, variance estimations"
   ]
  },
  {
   "cell_type": "code",
   "execution_count": 36,
   "metadata": {},
   "outputs": [],
   "source": [
    "def compute_covariance(x, var):    \n",
    "    S_x = np.cov(x, \n",
    "                 rowvar = False, \n",
    "                 bias = True)\n",
    "    S_s = S_x - var * np.identity(S_x.shape[0])\n",
    "    var_x = np.diag(S_x)\n",
    "    var_s = np.diag(S_s)    \n",
    "    #-----\n",
    "    return S_x, S_s, var_x, var_s"
   ]
  },
  {
   "cell_type": "code",
   "execution_count": 37,
   "metadata": {},
   "outputs": [],
   "source": [
    "# def compute_covariance_v2(x, var):    \n",
    "#     s = list(sum(x))\n",
    "#     samps = []\n",
    "#     for i in np.arange(len(xph_n)):\n",
    "#         samp = (s - x[i])/(np.sqrt(len(x)-1))\n",
    "#         samps.append(samp)\n",
    "#     #----- ---- --- -- -    \n",
    "#     S_x = np.cov(samps, \n",
    "#                  rowvar = False, \n",
    "#                  bias = True)\n",
    "#     S_s = S_x - var * np.identity(S_x.shape[0])\n",
    "#     var_x = np.diag(S_x)\n",
    "#     var_s = np.diag(S_s)  \n",
    "#     #-----\n",
    "#     return samps, S_x, S_s, var_x, var_s"
   ]
  },
  {
   "cell_type": "code",
   "execution_count": 38,
   "metadata": {},
   "outputs": [],
   "source": [
    "def compute_var_n_ME_v1(x, mu_xph):\n",
    "    var_n_ME = np.abs(sum(i*i for i in x) - sum(i*i for i in mu_xph)[0]) / (len(x)-len(mu_xph))\n",
    "    return var_n_ME"
   ]
  },
  {
   "cell_type": "code",
   "execution_count": 39,
   "metadata": {},
   "outputs": [],
   "source": [
    "# def compute_sigma_n_ME_v2(xhbf_n, myhb_n, invSx):\n",
    "#     a = np.trace(invSx) - norm(invSx*myhb_n, 2)**2\n",
    "#     b = len(xhbf_n) - len(myhb_n)\n",
    "#     c = norm(xhbf_n, 2)**2 - norm(myhb_n, 2)**2    \n",
    "#     sig_n_est_n_ME_1 = (b + np.sqrt(b**2 - 4*a*c)) / (2 * (a))\n",
    "#     sig_n_est_n_ME_2 = (b - np.sqrt(b**2 - 4*a*c)) / (2 * (a))        \n",
    "#     return sig_n_est_n_ME_1, sig_n_est_n_ME_2"
   ]
  },
  {
   "cell_type": "markdown",
   "metadata": {},
   "source": [
    "### Filter"
   ]
  },
  {
   "cell_type": "code",
   "execution_count": 40,
   "metadata": {},
   "outputs": [],
   "source": [
    "def compute_GP_filter(Theta, Rho, sig, mu):    \n",
    "    s_h = Theta.T * Rho * Theta * np.asmatrix(sig - mu).T + np.asmatrix(mu).T\n",
    "    s_h = np.asarray(list(np.concatenate(s_h.tolist()).flat))\n",
    "    return s_h"
   ]
  },
  {
   "cell_type": "code",
   "execution_count": 41,
   "metadata": {},
   "outputs": [],
   "source": [
    "def func_MA_filter_time_phase_matrix(M_ph, n):    \n",
    "    M_ph_sm = np.copy(M_ph)\n",
    "    for i in range(M_ph.shape[0]):\n",
    "        sig = np.asarray(M_ph[i,])\n",
    "        sig = [item for sublist in sig.tolist() for item in sublist]\n",
    "        M_ph_sm[i,] = func_MA_filter(sig, n, 1)\n",
    "    return M_ph_sm  "
   ]
  },
  {
   "cell_type": "code",
   "execution_count": 42,
   "metadata": {},
   "outputs": [],
   "source": [
    "def compute_all_SNRs(x_f, n, s_h):\n",
    "    input_SNR_db = func_SNR_computation(x_f, n)\n",
    "    output_SNR_db = func_SNR_computation(x_f, (s_h - x_f))\n",
    "    delta_SNR_db = output_SNR_db - input_SNR_db\n",
    "    return input_SNR_db, output_SNR_db, delta_SNR_db"
   ]
  },
  {
   "cell_type": "code",
   "execution_count": 43,
   "metadata": {},
   "outputs": [],
   "source": [
    "def func_SNR_computation(s, n):\n",
    "    s = np.asanyarray(s)\n",
    "    n = np.asanyarray(n)\n",
    "    snr = 10 * np.log10(np.mean(s**2)/np.mean(n**2))\n",
    "    return snr"
   ]
  },
  {
   "cell_type": "markdown",
   "metadata": {},
   "source": [
    "### Addendum"
   ]
  },
  {
   "cell_type": "code",
   "execution_count": 44,
   "metadata": {},
   "outputs": [],
   "source": [
    "def check_if_diag(Matrix):\n",
    "    if(np.count_nonzero(Matrix - np.diag(np.diagonal(Matrix)))==0):\n",
    "        return True\n",
    "    else:\n",
    "        return False"
   ]
  },
  {
   "cell_type": "code",
   "execution_count": 45,
   "metadata": {},
   "outputs": [],
   "source": [
    "def check_matrix_characteristics(Matrix):\n",
    "    print('Checking matrix characteristics started....')\n",
    "    if (check_if_diag(Matrix)==True):\n",
    "        print('   Matrix is diagonal.')\n",
    "    else:\n",
    "        print('   Matrix is NOT diagonal.')\n",
    "\n",
    "    if (np.linalg.det(Matrix)==0):\n",
    "        print('   Matrix is NON invertible.')\n",
    "    else:\n",
    "        print('   Matrix is invertible.')\n",
    "    print('Checking matrix characteristics finished.')        "
   ]
  },
  {
   "cell_type": "code",
   "execution_count": 46,
   "metadata": {},
   "outputs": [],
   "source": [
    "def min_max_len_hb(x):\n",
    "    minhb = len(x[0])\n",
    "    maxhb = len(x[0])\n",
    "    for i in np.arange(1,len(x)):\n",
    "        if minhb>len(x[i]):\n",
    "            minhb = len(x[i])\n",
    "        if maxhb<len(x[i]):\n",
    "            maxhb = len(x[i])        \n",
    "    return minhb, maxhb"
   ]
  },
  {
   "cell_type": "code",
   "execution_count": 47,
   "metadata": {},
   "outputs": [],
   "source": [
    "def func_alarm_ThThT(x, Tau):\n",
    "    if (Tau <= min_max_len_hb(x)[0]):\n",
    "        print('[OK] Tau =', Tau, '<=', min_max_len_hb(x)[0], '= min(len(hb)) => Theta * Theta.T is diagonal hence invertible.')\n",
    "    else:\n",
    "        print('[ALARM!] Tau =', Tau, '>', min_max_len_hb(x)[0], '= min(len(hb)) => Theta * Theta.T can be singular.')"
   ]
  },
  {
   "cell_type": "code",
   "execution_count": 48,
   "metadata": {},
   "outputs": [],
   "source": [
    "def func_alarm_SampCov(x, Tau):\n",
    "    if (Tau <= len(x)):\n",
    "        print('[OK] Tau =', Tau, '<=', len(x), '= n_hb => sampCov most probably invertible')\n",
    "    else:\n",
    "        print('[ALARM!] Tau =', Tau, '>', len(x), '= n_hb => sampCov is singular (not enough heartbeats to produce a sample covariance matrix).')"
   ]
  },
  {
   "cell_type": "markdown",
   "metadata": {},
   "source": [
    "## Filtering procedure"
   ]
  },
  {
   "cell_type": "code",
   "execution_count": 49,
   "metadata": {},
   "outputs": [
    {
     "name": "stdout",
     "output_type": "stream",
     "text": [
      "selected file:  sele0612\n",
      "selected channel:  0\n",
      "number of seconds: 200\n",
      "N =  50000\n",
      "# of samples in x:  49743\n",
      "# of hb in x:  163\n",
      "smallest hb in x: 278\n",
      "largest hb in x: 319\n",
      "target noise dB: 0\n",
      "noise variance: 0.06650809632555063\n",
      "Tau: 150\n",
      "[OK] Tau = 150 <= 278 = min(len(hb)) => Theta * Theta.T is diagonal hence invertible.\n",
      "[OK] Tau = 150 <= 163 = n_hb => sampCov most probably invertible\n"
     ]
    }
   ],
   "source": [
    "#srecord = wfdb.rdrecord('Data/s0010_re')\n",
    "FILE_PATH = os.getcwd()\n",
    "data_dir = FILE_PATH + '/../QTDataBase/'\n",
    "data_files = os.listdir(data_dir) # get a listing of the directory\n",
    "dat_files = [x.split('.')[0] for x in data_files]\n",
    "#dat_files = sorted([f for f in data_files if f.endswith('.hea')]) # get a list of all the .atc files\n",
    "#-------\n",
    "file_name = 'sele0612'\n",
    "#'sele0603' 'sele0612' 'sel41' 'sele0122' 'sel40' 'sele0612' 'sele0303'\n",
    "#-------\n",
    "file_to_read = data_dir + file_name\n",
    "signals, fields = wfdb.rdsamp(file_to_read, sampfrom=0)\n",
    "fs = fields[\"fs\"]\n",
    "ch_num = 0\n",
    "s = signals[:,ch_num]\n",
    "#\n",
    "#-------\n",
    "n_sec = 200\n",
    "N = n_sec * fs \n",
    "ecg_clean = s[0: N]\n",
    "tm = np.arange(0, N)/fs\n",
    "#-------\n",
    "bwr, ecg_bwr = func_bw_extraction_MAMD(signal = ecg_clean,\n",
    "                                       win_l_MA = 0.5,\n",
    "                                       win_l_MD = 0.71,\n",
    "                                       fs = fs)\n",
    "ecg_bp1, ecg_bp, ecg_tan, ecg_sq, ecg_MA_sq, peaks2, pks = func_detect_peaks(signal = ecg_bwr, \n",
    "                                                                             frac = 0.5, \n",
    "                                                                             win_l_calib = 0.6, \n",
    "                                                                             win_l_peak_search = 0.5, \n",
    "                                                                             fs = fs)\n",
    "mids = func_detect_middles(peaks2, len(ecg_bwr))\n",
    "pks = func_reorder_peaks(pks, mids)\n",
    "\n",
    "ecg = ecg_bwr[mids[0]:mids[-1]+1]                           # get the ecg, i.e. get the chunck between the first mid and last mid\n",
    "ps = np.int_(pks - mids[0])                                 # calibrate the peaks, by shifting with the mids[0] \n",
    "                                                            # which is the begining of the signal\n",
    "    \n",
    "ms = np.int_(mids - mids[0])                                # calibrate the midles, by shifting with the mids[0] \n",
    "                                                            # which is the begining of the signal\n",
    "\n",
    "pshb = ps - ms[:-1]                                         # the peaks relative to each heartbeat, i.e. the position counting \n",
    "                                                            # from the heartbeat begining    \n",
    "#----- ---- --- -- -\n",
    "target_noise_db = 0                                         # set the target noise in dB\n",
    "Tau = 150                                                   # set the number of bins (samples in phase space)\n",
    "ecg_n, n, var_n = func_add_noise(target_noise_db, ecg)      # get the noisy signal and the added noise signal\n",
    "sd_n = np.sqrt(var_n)\n",
    "#----- ---- --- -- -\n",
    "x = func_heartbeats(ecg, ms)                                # x is the \"pure\" ecg, as list of heartbeats\n",
    "x_f = np.concatenate(x, axis=0).tolist()                    # x_f refers to x flatten, used in multiplications\n",
    "#----- ---- --- -- -\n",
    "x_n = func_heartbeats(ecg_n, ms)                            # x is the \"noisy\" ecg, as list of noisy heartbeats\n",
    "x_n_f = np.concatenate(x_n, axis=0).tolist()                # x_n_f refers to x_n flatten, used in multiplications\n",
    "\n",
    "print(\"selected file: \", file_name)\n",
    "print(\"selected channel: \", ch_num)\n",
    "print('number of seconds:', n_sec)\n",
    "print('N = ',N)\n",
    "print('# of samples in x: ', len(x_f))\n",
    "print('# of hb in x: ', len(x))\n",
    "print('smallest hb in x:', min_max_len_hb(x)[0])\n",
    "print('largest hb in x:', min_max_len_hb(x)[1])\n",
    "print('target noise dB:', target_noise_db)\n",
    "print('noise variance:', var_n)\n",
    "print('Tau:', Tau)\n",
    "func_alarm_ThThT(x, Tau)\n",
    "func_alarm_SampCov(x, Tau)"
   ]
  },
  {
   "cell_type": "code",
   "execution_count": 50,
   "metadata": {},
   "outputs": [],
   "source": [
    "#func_plot_check(tm, pks, mids, s, ecg_clean, ecg_bwr, ecg_bp1, ecg_bp, ecg_tan, ecg_sq, ecg_MA_sq)"
   ]
  },
  {
   "cell_type": "markdown",
   "metadata": {},
   "source": [
    "### Get x in phase domain, the transformation matrix Theta and sample statistics"
   ]
  },
  {
   "cell_type": "code",
   "execution_count": 51,
   "metadata": {},
   "outputs": [],
   "source": [
    "#x in phase domain \n",
    "xph, Th = get_sigphase_and_transfmat2(x, pshb, Tau)          # xph is list of transformed heartbeats for x, Theta is the transformation\n",
    "Theta = create_Theta2(Th)                                    # Theta is formed from each Th_i, by concatenation and normalization\n",
    "#-----\n",
    "xph_f = np.concatenate(xph, axis=0).tolist()                # xph_f refers to xph flatten, used in multiplications\n",
    "mu_xph = np.asarray(Theta * np.asmatrix(x_f).T)             # mu_xph is the mean-binned signal x in the phase domain\n",
    "#-----\n",
    "S_xph, S_sph, var_xph, var_sph = compute_covariance(xph, var_n)\n",
    "sd_xph = np.sqrt(var_xph)"
   ]
  },
  {
   "cell_type": "code",
   "execution_count": 52,
   "metadata": {},
   "outputs": [
    {
     "name": "stderr",
     "output_type": "stream",
     "text": [
      "The PostScript backend does not support transparency; partially transparent artists will be rendered opaque.\n"
     ]
    },
    {
     "data": {
      "image/png": "[encoded data removed]",
      "text/plain": [
       "<Figure size 1584x576 with 4 Axes>"
      ]
     },
     "metadata": {
      "needs_background": "light"
     },
     "output_type": "display_data"
    }
   ],
   "source": [
    "plot_transitionFS2(x, xph, mu_xph, var_xph, fs)"
   ]
  },
  {
   "cell_type": "markdown",
   "metadata": {},
   "source": [
    "### The sample covariance matrices in phase domain (x_ph and s_ph)"
   ]
  },
  {
   "cell_type": "code",
   "execution_count": 53,
   "metadata": {},
   "outputs": [
    {
     "ename": "TypeError",
     "evalue": "only integer scalar arrays can be converted to a scalar index",
     "output_type": "error",
     "traceback": [
      "\u001b[0;31m---------------------------------------------------------------------------\u001b[0m",
      "\u001b[0;31mTypeError\u001b[0m                                 Traceback (most recent call last)",
      "\u001b[0;32m/var/folders/c_/n49dqf053b1bxw4vyshdg5qm0000gn/T/ipykernel_91077/24541025.py\u001b[0m in \u001b[0;36m<module>\u001b[0;34m\u001b[0m\n\u001b[1;32m      1\u001b[0m \u001b[0mplt\u001b[0m\u001b[0;34m.\u001b[0m\u001b[0mplot\u001b[0m\u001b[0;34m(\u001b[0m\u001b[0mx_f\u001b[0m\u001b[0;34m[\u001b[0m\u001b[0;36m0\u001b[0m\u001b[0;34m:\u001b[0m\u001b[0;36m1000\u001b[0m\u001b[0;34m]\u001b[0m\u001b[0;34m)\u001b[0m\u001b[0;34m\u001b[0m\u001b[0;34m\u001b[0m\u001b[0m\n\u001b[0;32m----> 2\u001b[0;31m \u001b[0mplt\u001b[0m\u001b[0;34m.\u001b[0m\u001b[0mplot\u001b[0m\u001b[0;34m(\u001b[0m\u001b[0mx_f\u001b[0m\u001b[0;34m[\u001b[0m\u001b[0mps\u001b[0m\u001b[0;34m]\u001b[0m\u001b[0;34m)\u001b[0m\u001b[0;34m\u001b[0m\u001b[0;34m\u001b[0m\u001b[0m\n\u001b[0m",
      "\u001b[0;31mTypeError\u001b[0m: only integer scalar arrays can be converted to a scalar index"
     ]
    },
    {
     "data": {
      "image/png": "[encoded data removed]",
      "text/plain": [
       "<Figure size 432x288 with 1 Axes>"
      ]
     },
     "metadata": {
      "needs_background": "light"
     },
     "output_type": "display_data"
    }
   ],
   "source": [
    "plt.plot(x_f[0:1000])\n",
    "plt.plot(x_f[ps])"
   ]
  },
  {
   "cell_type": "code",
   "execution_count": null,
   "metadata": {},
   "outputs": [],
   "source": [
    "ps"
   ]
  },
  {
   "cell_type": "code",
   "execution_count": null,
   "metadata": {},
   "outputs": [],
   "source": [
    "plot_sample_covariances(S_xph, var_xph, S_sph, var_sph, 0, 40)"
   ]
  },
  {
   "cell_type": "markdown",
   "metadata": {},
   "source": [
    "### The inversion"
   ]
  },
  {
   "cell_type": "code",
   "execution_count": null,
   "metadata": {},
   "outputs": [],
   "source": []
  },
  {
   "cell_type": "markdown",
   "metadata": {},
   "source": [
    "### The choice for the the Rho matrix."
   ]
  },
  {
   "cell_type": "code",
   "execution_count": null,
   "metadata": {},
   "outputs": [],
   "source": []
  },
  {
   "cell_type": "code",
   "execution_count": null,
   "metadata": {},
   "outputs": [],
   "source": []
  },
  {
   "cell_type": "code",
   "execution_count": null,
   "metadata": {},
   "outputs": [],
   "source": [
    "Rho = "
   ]
  },
  {
   "cell_type": "code",
   "execution_count": null,
   "metadata": {},
   "outputs": [],
   "source": [
    "plot_ThThT(Theta, Rho, 0, 40)"
   ]
  },
  {
   "cell_type": "code",
   "execution_count": null,
   "metadata": {},
   "outputs": [],
   "source": []
  },
  {
   "cell_type": "code",
   "execution_count": null,
   "metadata": {},
   "outputs": [],
   "source": []
  },
  {
   "cell_type": "code",
   "execution_count": null,
   "metadata": {},
   "outputs": [],
   "source": [
    "plot_transitionFS2(x, xph, mu_xph, var_xph, fs)"
   ]
  },
  {
   "cell_type": "code",
   "execution_count": null,
   "metadata": {},
   "outputs": [],
   "source": [
    "B = np.matmul(Theta, Theta.T)\n",
    "check_matrix_characteristics(B)\n",
    "Rho = np.linalg.inv(B) \n",
    "C = np.matmul(np.matmul(Theta.T, Rho), Theta)"
   ]
  },
  {
   "cell_type": "code",
   "execution_count": null,
   "metadata": {},
   "outputs": [],
   "source": []
  },
  {
   "cell_type": "code",
   "execution_count": null,
   "metadata": {},
   "outputs": [],
   "source": [
    "fig = plt.figure(figsize = (21,5))    \n",
    "#-----\n",
    "plt.subplot(1,3,1)\n",
    "plt.imshow(B)\n",
    "plt.colorbar()\n",
    "#-----\n",
    "plt.subplot(1,3,2)\n",
    "st = 0\n",
    "en = 40\n",
    "plt.imshow(B[st:en,st:en])\n",
    "plt.colorbar()\n",
    "#-----\n",
    "plt.subplot(1,3,3)\n",
    "plt.imshow(C[st:en,st:en])\n",
    "plt.colorbar()\n",
    "#-----\n",
    "fig.tight_layout()"
   ]
  },
  {
   "cell_type": "code",
   "execution_count": null,
   "metadata": {},
   "outputs": [],
   "source": [
    "np.matmul(C, np.array(x_f).T)"
   ]
  },
  {
   "cell_type": "code",
   "execution_count": null,
   "metadata": {},
   "outputs": [],
   "source": []
  },
  {
   "cell_type": "code",
   "execution_count": null,
   "metadata": {},
   "outputs": [],
   "source": [
    "plt.plot(mu_xph)"
   ]
  },
  {
   "cell_type": "markdown",
   "metadata": {},
   "source": [
    "### Get x noisy in phase domain, the transformation matrix and sample statistics"
   ]
  },
  {
   "cell_type": "code",
   "execution_count": null,
   "metadata": {},
   "outputs": [],
   "source": [
    "# x_n in phase domain \n",
    "xph_n, Th = get_sigphase_and_transfmat2(x_n, pshb, Tau)      # xph_n is list of transformed heartbeats for x, Theta is the transformation\n",
    "Theta = create_Theta2(Th)                                    # Theta is formed from each Th_i, by concatenation and normalization\n",
    "#-----\n",
    "xph_n_f = np.concatenate(xph_n, axis=0).tolist()            # xph_n_f refers to xph flatten, used in multiplications\n",
    "mu_xph_n = np.asarray(Theta * np.asmatrix(x_n_f).T)         # mu_xph_n is the mean-binned signal x_n in the phase domain\n",
    "#-----\n",
    "S_xph_n, S_sph_n, var_xph_n, var_sph_n = compute_covariance(xph_n, var_n)\n",
    "sd_xph_n = np.sqrt(var_xph_n)\n",
    "#----- ---- --- -- -"
   ]
  },
  {
   "cell_type": "markdown",
   "metadata": {},
   "source": [
    "### Get the noise variance estimation"
   ]
  },
  {
   "cell_type": "code",
   "execution_count": null,
   "metadata": {},
   "outputs": [],
   "source": [
    "# noise variance, estimation via ME\n",
    "var_n_ME = compute_var_n_ME_v1(x_n_f, mu_xph_n)\n",
    "sd_n_ME = np.sqrt(var_n_ME)"
   ]
  },
  {
   "cell_type": "code",
   "execution_count": null,
   "metadata": {},
   "outputs": [],
   "source": [
    "print('real var:', var_n)\n",
    "print('esti var:', var_n_ME)"
   ]
  },
  {
   "cell_type": "markdown",
   "metadata": {},
   "source": [
    "### Filter the transformation matrix -> smoother estimation"
   ]
  },
  {
   "cell_type": "code",
   "execution_count": null,
   "metadata": {},
   "outputs": [],
   "source": [
    "# Theta is filtered for a smoother filter\n",
    "ThetaF = np.asmatrix(func_MA_filter_time_phase_matrix(Theta, 5))"
   ]
  },
  {
   "cell_type": "markdown",
   "metadata": {},
   "source": [
    "### Define matrix Rho "
   ]
  },
  {
   "cell_type": "code",
   "execution_count": null,
   "metadata": {},
   "outputs": [],
   "source": [
    "#----- ---- --- -- -\n",
    "Rho_0 = np.identity(Tau)\n",
    "#s_h0 = compute_GP_filter(Theta, Rho_0, x_n_f)\n",
    "#input_SNR_db, output_SNR_db_0, delta_SNR_db_0 = compute_all_SNRs(x_f, n, s_h0)\n",
    "#----- ---- --- -- -\n",
    "Rho_1 = np.diag(1 - (var_n_ME / (var_n_ME + var_xph_n )))\n",
    "#s_h1 = compute_GP_filter(Theta, Rho_1, x_n_f)\n",
    "#input_SNR_db, output_SNR_db_1, delta_SNR_db_1 = compute_all_SNRs(x_f, n, s_h1)\n",
    "#----- ---- --- -- -\n",
    "Rho_2 = np.identity(Tau) - var_n_ME * np.linalg.inv(S_xph_n)\n",
    "#s_h2 = compute_GP_filter(Theta, Rho_2, x_n_f)\n",
    "#input_SNR_db, output_SNR_db_2, delta_SNR_db_2 = compute_all_SNRs(x_f, n, s_h2)"
   ]
  },
  {
   "cell_type": "code",
   "execution_count": null,
   "metadata": {},
   "outputs": [],
   "source": [
    "Rho_0"
   ]
  },
  {
   "cell_type": "code",
   "execution_count": 1,
   "metadata": {},
   "outputs": [
    {
     "ename": "NameError",
     "evalue": "name 'Th' is not defined",
     "output_type": "error",
     "traceback": [
      "\u001b[0;31m---------------------------------------------------------------------------\u001b[0m",
      "\u001b[0;31mNameError\u001b[0m                                 Traceback (most recent call last)",
      "\u001b[0;32m/var/folders/c_/n49dqf053b1bxw4vyshdg5qm0000gn/T/ipykernel_92501/1144643703.py\u001b[0m in \u001b[0;36m<module>\u001b[0;34m\u001b[0m\n\u001b[0;32m----> 1\u001b[0;31m \u001b[0mTh\u001b[0m\u001b[0;34m[\u001b[0m\u001b[0;36m0\u001b[0m\u001b[0;34m]\u001b[0m\u001b[0;34m\u001b[0m\u001b[0;34m\u001b[0m\u001b[0m\n\u001b[0m",
      "\u001b[0;31mNameError\u001b[0m: name 'Th' is not defined"
     ]
    }
   ],
   "source": [
    "Th[0]"
   ]
  },
  {
   "cell_type": "code",
   "execution_count": null,
   "metadata": {},
   "outputs": [],
   "source": [
    "check_matrix_characteristics(B)\n",
    "fig = plt.figure(figsize = (16,6))    \n",
    "plt.subplot(1,2,1)\n",
    "plt.imshow(B)\n",
    "plt.colorbar()\n",
    "fig.tight_layout()\n",
    "plt.subplot(1,2,2)\n",
    "st = 0\n",
    "en = 40\n",
    "plt.imshow(B[st:en,st:en])\n",
    "plt.colorbar()\n",
    "fig.tight_layout()"
   ]
  },
  {
   "cell_type": "code",
   "execution_count": null,
   "metadata": {},
   "outputs": [],
   "source": []
  },
  {
   "cell_type": "code",
   "execution_count": null,
   "metadata": {},
   "outputs": [],
   "source": [
    "s_h0 = compute_GP_filter(ThetaF, Rho_0, x_f, mu_xph_n)\n",
    "inSNRdb, outSNRdb, delSNRdb = compute_all_SNRs(x_f, n, s_h0)\n",
    "print(\"inSNR, outSNR, delSNR \", inSNRdb, outSNRdb, delSNRdb)\n",
    "plot_all(x, xph, var_xph, var_n, np.diag(Rho_0), mu_xph, s_h0, 'x', 'xph', 1400)"
   ]
  },
  {
   "cell_type": "code",
   "execution_count": null,
   "metadata": {},
   "outputs": [],
   "source": [
    "#plot_transition(x, xph, mu_xph, var_xph)"
   ]
  },
  {
   "cell_type": "code",
   "execution_count": null,
   "metadata": {},
   "outputs": [],
   "source": [
    "#plot_transitionFS(x, xph, mu_xph, var_xph, fs)"
   ]
  },
  {
   "cell_type": "code",
   "execution_count": null,
   "metadata": {},
   "outputs": [],
   "source": [
    "#plot_transitionFS2(x, xph, mu_xph, var_xph_n, fs)"
   ]
  },
  {
   "cell_type": "code",
   "execution_count": null,
   "metadata": {},
   "outputs": [],
   "source": [
    "# fig = plt.figure(figsize = (22, 8))\n",
    "# plt.plot(mu_xph, 'o-')"
   ]
  },
  {
   "cell_type": "code",
   "execution_count": null,
   "metadata": {},
   "outputs": [],
   "source": [
    "#mu_xph.flatten()"
   ]
  },
  {
   "cell_type": "code",
   "execution_count": null,
   "metadata": {},
   "outputs": [],
   "source": [
    "#np.savetxt(\"ecg.csv\", mu_xph.flatten(), delimiter=\",\")"
   ]
  },
  {
   "cell_type": "code",
   "execution_count": null,
   "metadata": {
    "scrolled": false
   },
   "outputs": [],
   "source": [
    "#----- ---- --- -- -\n",
    "# Rho is identity, reconstruction from the clean signal\n",
    "s_h0 = compute_GP_filter(ThetaF, Rho_0, x_f)\n",
    "inSNRdb, outSNRdb, delSNRdb = compute_all_SNRs(x_f, n, s_h0)\n",
    "print(\"inSNR, outSNR, delSNR \", inSNRdb, outSNRdb, delSNRdb)\n",
    "plot_all(x, xph, var_xph, var_n, np.diag(Rho_0), mu_xph, s_h0, 'x', 'xph', 1400)\n",
    "# #----- ---- --- -- -\n",
    "# Rho is the identity, reconstruction from the noisy signal \n",
    "s_h0 = compute_GP_filter(ThetaF, Rho_0, x_n_f)\n",
    "inSNRdb, outSNRdb, delSNRdb = compute_all_SNRs(x_f, n, s_h0)\n",
    "print(\"inSNR, outSNR, delSNR \", inSNRdb, outSNRdb, delSNRdb)\n",
    "plot_all(x_n, xph_n, var_xph_n, var_n, np.diag(Rho_0), mu_xph_n, s_h0, 'x_n', 'xph_n', 1400)\n",
    "# #----- ---- --- -- -\n",
    "# Rho is as per the equations, reconstruction from the clean signal\n",
    "s_h1 = compute_GP_filter(ThetaF, Rho_1, x_f)\n",
    "inSNRdb, outSNRdb, delSNRdb = compute_all_SNRs(x_f, n, s_h1)\n",
    "print(\"inSNR, outSNR, delSNR \", inSNRdb, outSNRdb, delSNRdb)\n",
    "plot_all(x, xph_n, var_xph_n, var_n, np.diag(Rho_1), mu_xph_n, s_h1, 'x_n', 'xph_n', 1400)\n",
    "# #----- ---- --- -- -\n",
    "# # Rho is as per the equations, reconstruction from the noisy signal\n",
    "s_h1 = compute_GP_filter(ThetaF, Rho_1, x_n_f)\n",
    "inSNRdb, outSNRdb, delSNRdb = compute_all_SNRs(x_f, n, s_h1)\n",
    "print(\"inSNR, outSNR, delSNR \", inSNRdb, outSNRdb, delSNRdb)\n",
    "plot_all(x_n, xph_n, var_xph_n, var_n, np.diag(Rho_1), mu_xph_n, s_h1, 'x_n', 'xph_n', 1400)\n",
    "# #----- ---- --- -- -\n",
    "# # Rho is as per the equations, full covariance, reconstruction from the noisy signal\n",
    "s_h2 = compute_GP_filter(ThetaF, Rho_2, x_n_f)\n",
    "inSNRdb, outSNRdb, delSNRdb = compute_all_SNRs(x_f, n, s_h2)\n",
    "print(\"inSNR, outSNR, delSNR \", inSNRdb, outSNRdb, delSNRdb)\n",
    "plot_all(x_n, xph_n, var_xph_n, var_n, np.diag(Rho_2), mu_xph_n, s_h2, 'x_n', 'xph_n', 1400)\n",
    "# #----- ---- --- -- -"
   ]
  },
  {
   "cell_type": "code",
   "execution_count": null,
   "metadata": {},
   "outputs": [],
   "source": [
    "inv_S_xph_n = np.linalg.inv(S_xph_n)\n",
    "fig = plt.figure(figsize = (24,4))    \n",
    "plt.subplot(1,3,1)\n",
    "plt.imshow(S_xph_n)\n",
    "plt.colorbar()\n",
    "plt.subplot(1,3,2)\n",
    "plt.imshow(var_n_ME * inv_S_xph_n)\n",
    "plt.colorbar()\n",
    "plt.subplot(1,3,3)\n",
    "plt.imshow(np.identity(Tau) - var_n_ME * inv_S_xph_n)\n",
    "plt.colorbar()\n",
    "fig.tight_layout()\n",
    "plt.show()       "
   ]
  },
  {
   "cell_type": "code",
   "execution_count": null,
   "metadata": {},
   "outputs": [],
   "source": [
    "Stop"
   ]
  },
  {
   "cell_type": "code",
   "execution_count": null,
   "metadata": {},
   "outputs": [],
   "source": [
    "np.sqrt(3)"
   ]
  },
  {
   "cell_type": "code",
   "execution_count": null,
   "metadata": {},
   "outputs": [],
   "source": [
    "1/0.59460356"
   ]
  },
  {
   "cell_type": "code",
   "execution_count": null,
   "metadata": {},
   "outputs": [],
   "source": [
    "cc = np.matmul(Th[0], Th[0].T)\n",
    "np.linalg.det(cc)"
   ]
  },
  {
   "cell_type": "code",
   "execution_count": null,
   "metadata": {},
   "outputs": [],
   "source": [
    "Th[0][0:5,0:5]"
   ]
  },
  {
   "cell_type": "code",
   "execution_count": null,
   "metadata": {},
   "outputs": [],
   "source": [
    "cc = np.matmul(Th[0], Th[0].T)\n",
    "plt.imshow(cc[0:10,0:10])\n",
    "plt.colorbar()"
   ]
  },
  {
   "cell_type": "code",
   "execution_count": null,
   "metadata": {},
   "outputs": [],
   "source": [
    "plt.imshow(Th[0][0:35, 0:35])\n",
    "plt.colorbar()"
   ]
  },
  {
   "cell_type": "code",
   "execution_count": null,
   "metadata": {},
   "outputs": [],
   "source": []
  },
  {
   "cell_type": "code",
   "execution_count": null,
   "metadata": {},
   "outputs": [],
   "source": []
  },
  {
   "cell_type": "code",
   "execution_count": null,
   "metadata": {},
   "outputs": [],
   "source": [
    "xph, Th = get_sigphase_and_transfmat(x, pshb, 400)"
   ]
  },
  {
   "cell_type": "code",
   "execution_count": null,
   "metadata": {},
   "outputs": [],
   "source": [
    "fig = plt.figure(figsize = (24,4))    \n",
    "plt.subplot(1,2,1)\n",
    "for hb in x:\n",
    "    plt.plot(hb)\n",
    "plt.subplot(1,2,2) \n",
    "for hbph in xph:\n",
    "    plt.plot(hbph)\n",
    "fig.tight_layout()\n",
    "plt.show()       "
   ]
  },
  {
   "cell_type": "code",
   "execution_count": null,
   "metadata": {},
   "outputs": [],
   "source": [
    "STOP"
   ]
  },
  {
   "cell_type": "code",
   "execution_count": null,
   "metadata": {},
   "outputs": [],
   "source": []
  },
  {
   "cell_type": "code",
   "execution_count": null,
   "metadata": {},
   "outputs": [],
   "source": []
  },
  {
   "cell_type": "code",
   "execution_count": null,
   "metadata": {},
   "outputs": [],
   "source": []
  },
  {
   "cell_type": "code",
   "execution_count": null,
   "metadata": {},
   "outputs": [],
   "source": []
  },
  {
   "cell_type": "code",
   "execution_count": null,
   "metadata": {},
   "outputs": [],
   "source": []
  },
  {
   "cell_type": "code",
   "execution_count": null,
   "metadata": {},
   "outputs": [],
   "source": [
    "#srecord = wfdb.rdrecord('Data/s0010_re')\n",
    "FILE_PATH = os.getcwd()\n",
    "data_dir = FILE_PATH + '/../QTDataBase/'\n",
    "data_files = os.listdir(data_dir) # get a listing of the directory\n",
    "dat_files = [x.split('.')[0] for x in data_files]\n",
    "#dat_files = sorted([f for f in data_files if f.endswith('.hea')]) # get a list of all the .atc files\n",
    "#-------\n",
    "file_name = 'sele0603'\n",
    "#'sele0603' 'sele0612' 'sel41' 'sele0122' 'sel40' 'sele0612' 'sele0303'\n",
    "#-------\n",
    "file_to_read = data_dir + file_name\n",
    "signals, fields = wfdb.rdsamp(file_to_read, sampfrom=0)\n",
    "fs = fields[\"fs\"]\n",
    "ch_num = 0\n",
    "s = signals[:,ch_num]\n",
    "#\n",
    "print(\"selected file: \", file_name)\n",
    "print(\"selected channel: \", ch_num)\n",
    "#-------\n",
    "n_sec = 60\n",
    "N = n_sec * fs \n",
    "ecg_clean = s[0: N]\n",
    "tm = np.arange(0, N)/fs\n",
    "#-------\n",
    "bwr, ecg_bwr = func_bw_extraction_MAMD(signal = ecg_clean,\n",
    "                                       win_l_MA = 0.5,\n",
    "                                       win_l_MD = 0.71,\n",
    "                                       fs = fs)\n",
    "ecg_bp1, ecg_bp, ecg_tan, ecg_sq, ecg_MA_sq, peaks2, pks = func_detect_peaks(signal = ecg_bwr, \n",
    "                                                                             frac = 0.5, \n",
    "                                                                             win_l_calib = 0.6, \n",
    "                                                                             win_l_peak_search = 0.5, \n",
    "                                                                             fs = fs)\n",
    "mids = func_detect_middles(peaks2, len(ecg_bwr))\n",
    "pks = func_reorder_peaks(pks, mids)\n",
    "#-------\n",
    "# start_ecg = mids[0]\n",
    "# end_ecg = mids[-1]\n",
    "# func_plot_check(tm, pks, mids, s, ecg_clean, ecg_bwr, ecg_bp1, ecg_bp, ecg_tan, ecg_sq, ecg_MA_sq)\n",
    "#-------\n",
    "ecg = ecg_bwr[mids[0]:mids[-1]+1]                           # get the ecg, i.e. get the chunck between the first mid and last mid\n",
    "ps = np.int_(pks - mids[0])                                 # calibrate the peaks, by shifting with the mids[0] \n",
    "                                                            # which is the begining of the signal\n",
    "ms = np.int_(mids - mids[0])                                # calibrate the midles, by shifting with the mids[0] \n",
    "                                                            # which is the begining of the signal\n",
    "pshb = ps - ms[:-1]                                         # the peaks relative to each heartbeat, i.e. the position counting \n",
    "                                                            # from the heartbeat begining    \n",
    "#----- ---- --- -- -\n",
    "target_noise_db = 0                                         # set the target noise in dB\n",
    "Tau = 150                                                   # set the number of bins (samples in phase space)\n",
    "ecg_n, n, var_n = func_add_noise(target_noise_db, ecg)      # get the noisy signal and the added noise signal\n",
    "sd_n = np.sqrt(var_n)\n",
    "pshb_aug = np.array([int(Tau/2)]*len(pshb))\n",
    "#----- ---- --- -- -\n",
    "x = func_heartbeats(ecg, ms)                                # x is the \"pure\" ecg, as list of heartbeats\n",
    "#x = func_augument_data(x, pshb, Tau)\n",
    "#\n",
    "print('number of heartbeats:', len(x))\n",
    "print('hb with smallest samples #:', get_min_max(x)[0])\n",
    "print('hb with highest samples #:', get_min_max(x)[1])\n",
    "x_f = np.concatenate(x, axis=0).tolist()                    # x_f refers to x flatten, used in multiplications\n",
    "#----- ---- --- -- -\n",
    "x_n = func_heartbeats(ecg_n, ms)                            # x is the \"noisy\" ecg, as list of noisy heartbeats\n",
    "#x_n = func_augument_data(x_n, pshb, Tau)\n",
    "#\n",
    "print('number of heartbeats:', len(x_n))\n",
    "print('hb with smallest samples #:', get_min_max(x_n)[0])\n",
    "print('hb with highest samples #:', get_min_max(x_n)[1])\n",
    "x_n_f = np.concatenate(x_n, axis=0).tolist()                # x_n_f refers to x_n flatten, used in multiplications\n"
   ]
  },
  {
   "cell_type": "code",
   "execution_count": null,
   "metadata": {},
   "outputs": [],
   "source": []
  },
  {
   "cell_type": "code",
   "execution_count": null,
   "metadata": {},
   "outputs": [],
   "source": []
  },
  {
   "cell_type": "code",
   "execution_count": null,
   "metadata": {},
   "outputs": [],
   "source": [
    "plt.imshow(Theta*Theta.T)\n",
    "plt.colorbar()"
   ]
  },
  {
   "cell_type": "code",
   "execution_count": null,
   "metadata": {},
   "outputs": [],
   "source": [
    "test = Th[0]*Th[0].T\n",
    "plt.imshow(test[0:30,0:30])\n",
    "plt.colorbar()"
   ]
  },
  {
   "cell_type": "code",
   "execution_count": null,
   "metadata": {},
   "outputs": [],
   "source": [
    "#----- ---- --- -- -\n",
    "print('target SNR : ', target_noise_db)\n",
    "print('var_n      : ', var_n)\n",
    "print('var_n_ME   : ', var_n_ME)\n",
    "print('max & min var_xph_n : ', np.min(var_xph_n), np.max(var_xph_n))\n",
    "# print('max & min sdxhb_n_2 : ', np.min(sdxhb_n_2), np.max(sdxhb_n_2))\n",
    "#----- ---- --- -- -\n",
    "print(\"input SNR, output SNR0, delta SNR0 \", input_SNR_db, output_SNR_db_0, delta_SNR_db_0)\n",
    "print(\"input SNR, output SNR1, delta SNR1 \", input_SNR_db, output_SNR_db_1, delta_SNR_db_1)\n",
    "# print(\"input SNR, output SNR 2, delta SNR 2 \", input_SNR_db, output_SNR_db_2, delta_SNR_db_2)"
   ]
  },
  {
   "cell_type": "code",
   "execution_count": null,
   "metadata": {},
   "outputs": [],
   "source": [
    "#plot_tests(Theta, Rho_1, x_n_f, x_f, s_h1, 1200)"
   ]
  },
  {
   "cell_type": "code",
   "execution_count": null,
   "metadata": {},
   "outputs": [],
   "source": [
    "#plot_tests(Theta, Rho_0, x_n_f, x_f, s_h0, 1200)"
   ]
  },
  {
   "cell_type": "code",
   "execution_count": null,
   "metadata": {},
   "outputs": [],
   "source": [
    "#func_plot_comparison(x_n_f, x_f, s_h1, n, detail = 800, name = 'ISCE' + file_name, noise_db = target_noise_db, algo = 'CC')"
   ]
  },
  {
   "cell_type": "code",
   "execution_count": null,
   "metadata": {},
   "outputs": [],
   "source": [
    "#----- ---- --- -- -\n",
    "S_xph, S_sph, var_xph, var_sph = compute_covariance(xph, var_n)\n",
    "sd_xph = np.sqrt(var_xph)\n",
    "#----- ---- --- -- -\n",
    "S_xph_n, S_sph_n, var_xph_n, var_sph_n = compute_covariance(xph_n, var_n)\n",
    "sd_xph_n = np.sqrt(var_xph_n)\n",
    "#----- ---- --- -- -\n",
    "# samps, S_xph_v2, S_sph_v2, var_xph_v2, var_sph_v2 = compute_covariance_v2(xph, var_n)\n",
    "# sd_xph_v2 = np.sqrt(var_xph_v2)\n",
    "# #----- ---- --- -- -\n",
    "# samps_n, S_xph_n_v2, S_sph_n_v2, var_xph_n_v2, var_sph_n_v2 = compute_covariance_v2(xph_n, var_n)\n",
    "# sd_xph_n_v2 = np.sqrt(var_xph_n_v2)\n",
    "# #----- ---- --- -- -"
   ]
  },
  {
   "cell_type": "code",
   "execution_count": null,
   "metadata": {},
   "outputs": [],
   "source": [
    "#----- ---- --- -- -\n",
    "# Rho is identity, reconstruction from the clean signal\n",
    "s_h0 = compute_GP_filter(Theta, Rho_0, x_f)\n",
    "inSNRdb, outSNRdb, delSNRdb = compute_all_SNRs(x_f, n, s_h0)\n",
    "print(\"inSNR, outSNR, delSNR \", inSNRdb, outSNRdb, delSNRdb)\n",
    "plot_all(x, xph, var_xph, var_n, np.diag(Rho_0), mu_xph, s_h0, 'x', 'xph', 1400)\n",
    "# #----- ---- --- -- -\n",
    "# Rho is the identity, reconstruction from the noisy signal \n",
    "s_h0 = compute_GP_filter(Theta, Rho_0, x_n_f)\n",
    "inSNRdb, outSNRdb, delSNRdb = compute_all_SNRs(x_f, n, s_h0)\n",
    "print(\"inSNR, outSNR, delSNR \", inSNRdb, outSNRdb, delSNRdb)\n",
    "plot_all(x_n, xph_n, var_xph_n, var_n, np.diag(Rho_0), mu_xph_n, s_h0, 'x_n', 'xph_n', 1400)\n",
    "# #----- ---- --- -- -\n",
    "# # Rho is as per the equations, reconstruction from the clean signal\n",
    "# s_h1 = compute_GP_filter(Theta, Rho_1, x_f)\n",
    "# plot_all(x, xph_n, var_xph_n, var_n, np.diag(Rho_1), mu_xph_n, s_h1, 'x_n', 'xph_n', 1400)\n",
    "# #----- ---- --- -- -\n",
    "# # Rho is as per the equations, reconstruction from the noisy signal\n",
    "# s_h1 = compute_GP_filter(Theta, Rho_1, x_n_f)\n",
    "# plot_all(x_n, xph_n, var_xph_n, var_n, np.diag(Rho_1), mu_xph_n, s_h1, 'x_n', 'xph_n', 1400)\n",
    "# #----- ---- --- -- -"
   ]
  },
  {
   "cell_type": "code",
   "execution_count": null,
   "metadata": {},
   "outputs": [],
   "source": [
    "plt.imshow(Th[0][240:260,240:260])"
   ]
  },
  {
   "cell_type": "code",
   "execution_count": null,
   "metadata": {},
   "outputs": [],
   "source": [
    "plt.plot(x[0])\n",
    "plt.plot(xph[0])"
   ]
  },
  {
   "cell_type": "code",
   "execution_count": null,
   "metadata": {},
   "outputs": [],
   "source": [
    "Theta * Theta.T"
   ]
  },
  {
   "cell_type": "code",
   "execution_count": null,
   "metadata": {},
   "outputs": [],
   "source": [
    "plt.figure(figsize = (10,10))\n",
    "plt.imshow(Theta[0:40,0:40])\n",
    "plt.colorbar()"
   ]
  },
  {
   "cell_type": "code",
   "execution_count": null,
   "metadata": {},
   "outputs": [],
   "source": [
    "pshb"
   ]
  },
  {
   "cell_type": "code",
   "execution_count": null,
   "metadata": {},
   "outputs": [],
   "source": [
    "def func_augument_data(x, Tau):\n",
    "    y = []\n",
    "    for i in np.arange(len(x)):        \n",
    "        x_aug = np.interp(np.linspace(0, len(x[i]), Tau), np.arange(len(x[i])), x[i])\n",
    "        y.append(x_aug)\n",
    "    return y"
   ]
  },
  {
   "cell_type": "code",
   "execution_count": null,
   "metadata": {},
   "outputs": [],
   "source": [
    "a = [1,2,3,4]\n",
    "a[3:]"
   ]
  },
  {
   "cell_type": "code",
   "execution_count": null,
   "metadata": {},
   "outputs": [],
   "source": [
    "def func_augument_data(x, pshb, Tau):\n",
    "    x_aug = []\n",
    "    for i in np.arange(len(x)):\n",
    "        x_aug_1 = np.interp(np.linspace(0, pshb[i], int(Tau/2)), \n",
    "                            np.arange(0, pshb[i], 1), \n",
    "                            x[i][0:pshb[i]])\n",
    "        x_aug_2 = np.interp(np.linspace(pshb[i], len(x[i]), int(Tau/2)), \n",
    "                            np.arange(pshb[i], len(x[i]), 1), \n",
    "                            x[i][pshb[i]:])\n",
    "        x_aug_c = np.concatenate((x_aug_1, x_aug_2),  axis=None)\n",
    "        x_aug.append(x_aug_c)\n",
    "    return x_aug"
   ]
  },
  {
   "cell_type": "code",
   "execution_count": null,
   "metadata": {},
   "outputs": [],
   "source": [
    "x_aug = func_augument_data(x, pshb, Tau)\n",
    "\n",
    "fig = plt.figure(figsize = (24,6))\n",
    "for i in np.arange(len(x)):\n",
    "    plt.plot(np.arange(len(x[i])), x[i])\n",
    "    plt.plot(np.arange(Tau), x_aug[i])\n",
    "fig.tight_layout()\n",
    "plt.show()   "
   ]
  },
  {
   "cell_type": "code",
   "execution_count": null,
   "metadata": {
    "scrolled": true
   },
   "outputs": [],
   "source": [
    "x_aug = func_augument_data(x, pshb, Tau):\n",
    "#----- ---- --- -- -\n",
    "fig = plt.figure(figsize = (24,6))\n",
    "plt.subplot(2,3,1)\n",
    "plt.plot(np.arange(0, pshb[i], 1), x[i][0:pshb[i]])\n",
    "plt.plot(np.arange(0, int(Tau/2), 1), x_aug_1)\n",
    "plt.subplot(2,3,2)\n",
    "plt.plot(np.arange(pshb[i], len(x[i]), 1), x[i][pshb[i]:])\n",
    "plt.plot(np.arange(int(Tau/2), Tau, 1), x_aug_2)\n",
    "plt.subplot(2,3,3)\n",
    "plt.plot(np.arange(pshb[i]), x[i][0:pshb[i]])\n",
    "plt.plot(np.arange(pshb[i], len(x[i]), 1), x[i][pshb[i]:])\n",
    "plt.subplot(2,3,4)\n",
    "plt.plot(np.arange(len(x[i])), x[i])\n",
    "plt.plot(np.arange(Tau), x_aug)\n",
    "plt.subplot(2,3,5)\n",
    "plt.plot(np.arange(len(x[i])), x[i])\n",
    "plt.subplot(2,3,6)\n",
    "plt.plot(np.arange(Tau), x_aug)\n",
    "fig.tight_layout()\n",
    "plt.show()        "
   ]
  },
  {
   "cell_type": "code",
   "execution_count": null,
   "metadata": {},
   "outputs": [],
   "source": [
    "y_1, y_2 = func_augument_data(x, pshb, 500)\n",
    "fig = plt.figure(figsize = (20,3))\n",
    "#----- ---- --- -- -\n",
    "plt.subplot(1,3,1)\n",
    "for hb in y_1:\n",
    "    plt.plot(hb)\n",
    "#----- ---- --- -- -\n",
    "plt.subplot(1,3,2)\n",
    "for hb in y_2:\n",
    "    plt.plot(hb)\n",
    "#----- ---- --- -- -\n",
    "fig.tight_layout()\n",
    "plt.show()        "
   ]
  },
  {
   "cell_type": "code",
   "execution_count": null,
   "metadata": {},
   "outputs": [],
   "source": [
    "Tau = 500\n",
    "y = np.interp(np.linspace(0, len(x[0]), Tau), np.arange(len(x[0])), x[0])\n",
    "#\n",
    "plt.plot(x[0])\n",
    "plt.plot(np.arange(Tau),y)"
   ]
  },
  {
   "cell_type": "code",
   "execution_count": null,
   "metadata": {},
   "outputs": [],
   "source": [
    "STOP"
   ]
  },
  {
   "cell_type": "code",
   "execution_count": null,
   "metadata": {},
   "outputs": [],
   "source": [
    "# x = np.linspace(0, 2*np.pi, 10)\n",
    "# y = np.sin(x)\n",
    "# xvals = np.linspace(0, 2*np.pi, 50)\n",
    "# yinterp = np.interp(xvals, x, y)\n",
    "# plt.plot(xvals, yinterp, 'o-')\n",
    "# plt.plot(x, y, 'o-')"
   ]
  },
  {
   "cell_type": "code",
   "execution_count": null,
   "metadata": {},
   "outputs": [],
   "source": []
  },
  {
   "cell_type": "code",
   "execution_count": null,
   "metadata": {},
   "outputs": [],
   "source": [
    "x"
   ]
  },
  {
   "cell_type": "code",
   "execution_count": null,
   "metadata": {},
   "outputs": [],
   "source": []
  },
  {
   "cell_type": "code",
   "execution_count": null,
   "metadata": {},
   "outputs": [],
   "source": []
  },
  {
   "cell_type": "code",
   "execution_count": null,
   "metadata": {},
   "outputs": [],
   "source": [
    "plt.figure(figsize = (22,5))\n",
    "for samp_n in samps_n:\n",
    "    plt.plot(samp_n)\n",
    "plt.plot(mu_xph_n,\n",
    "         lw = 1,\n",
    "         color = 'magenta')  \n",
    "plt.show()"
   ]
  },
  {
   "cell_type": "code",
   "execution_count": null,
   "metadata": {},
   "outputs": [],
   "source": [
    "#var_n\n",
    "np.var(n)"
   ]
  },
  {
   "cell_type": "code",
   "execution_count": null,
   "metadata": {},
   "outputs": [],
   "source": [
    "plt.plot(n)"
   ]
  },
  {
   "cell_type": "code",
   "execution_count": null,
   "metadata": {},
   "outputs": [],
   "source": [
    "print(func_SNR_computation(x_f, n))\n",
    "print(func_SNR_computation(x_f, np.asanyarray(x_n_f)-np.asanyarray(x_f)))"
   ]
  },
  {
   "cell_type": "code",
   "execution_count": null,
   "metadata": {},
   "outputs": [],
   "source": [
    "# bb = np.concatenate(mu_xph, axis=0)\n",
    "# var_xph\n",
    "# resu = bb + var_xph\n",
    "# resu\n",
    "# #np.concatenate(var_xph, axis = 0)"
   ]
  },
  {
   "cell_type": "code",
   "execution_count": null,
   "metadata": {},
   "outputs": [],
   "source": [
    "mu_xph.tolist()\n",
    "# var_xph.tolist()"
   ]
  },
  {
   "cell_type": "code",
   "execution_count": null,
   "metadata": {},
   "outputs": [],
   "source": [
    "print(len(np.arange(len(mu_xph))))\n",
    "print(len(mu_xph))\n",
    "print(len(var_xph))"
   ]
  },
  {
   "cell_type": "code",
   "execution_count": null,
   "metadata": {},
   "outputs": [],
   "source": [
    "plt.figure(figsize = (22,8))\n",
    "n = 20\n",
    "plt.plot(x[0][pshb[0]-n : pshb[0]+n],'o-')\n",
    "plt.plot(xph[0][int(Tau/2)-n : int(Tau/2)+n], 'o-')"
   ]
  },
  {
   "cell_type": "code",
   "execution_count": null,
   "metadata": {},
   "outputs": [],
   "source": [
    "plt.imshow(Theta * Theta.T)\n",
    "plt.colorbar()"
   ]
  },
  {
   "cell_type": "code",
   "execution_count": null,
   "metadata": {},
   "outputs": [],
   "source": [
    "plt.imshow(Theta)"
   ]
  },
  {
   "cell_type": "code",
   "execution_count": null,
   "metadata": {},
   "outputs": [],
   "source": [
    "samps, S_xph_v2, S_sph_v2, var_xph_v2, var_sph_v2 = compute_covariance_v2(xph, var_n)\n",
    "sd_xph_v2 = np.sqrt(var_xph_v2)\n",
    "\n",
    "samps_n, S_xph_n_v2, S_sph_n_v2, var_xph_n_v2, var_sph_n_v2 = compute_covariance_v2(xph_n, var_n)\n",
    "sd_xph_n_v2 = np.sqrt(var_xph_n_v2)"
   ]
  },
  {
   "cell_type": "code",
   "execution_count": null,
   "metadata": {},
   "outputs": [],
   "source": [
    "plt.figure(figsize = (20,10))\n",
    "#----- ---- --- -- -\n",
    "plt.subplot(3,2,1)\n",
    "for samp in samps:\n",
    "    plt.plot(samp)\n",
    "plt.subplot(3,2,2)\n",
    "plt.plot(var_xph_v2, label = 'var(xph)')\n",
    "plt.legend()\n",
    "#----- ---- --- -- -\n",
    "plt.subplot(3,2,3)\n",
    "for samp_n in samps_n:\n",
    "    plt.plot(samp_n)\n",
    "plt.subplot(3,2,4)\n",
    "plt.plot(var_xph_n_v2, label = 'var(xph_n)')\n",
    "plt.legend()\n",
    "#----- ---- --- -- -\n",
    "plt.subplot(3,2,5)\n",
    "for samp_n in samps_n:\n",
    "    plt.plot(samp_n)\n",
    "plt.subplot(3,2,6)\n",
    "plt.plot(var_xph_n_v2 - var_xph_v2, label = 'var(xph_n) - var(xph)')\n",
    "#plt.plot(var_n * np.ones(Tau))\n",
    "plt.legend()"
   ]
  },
  {
   "cell_type": "code",
   "execution_count": null,
   "metadata": {},
   "outputs": [],
   "source": [
    "var_n"
   ]
  },
  {
   "cell_type": "code",
   "execution_count": null,
   "metadata": {},
   "outputs": [],
   "source": [
    "a = []\n",
    "for samp in samps:\n",
    "    a.append(samp[0])\n",
    "    #print(samp[0])\n",
    "np.mean(a)\n",
    "np.var(a)"
   ]
  },
  {
   "cell_type": "code",
   "execution_count": null,
   "metadata": {},
   "outputs": [],
   "source": [
    "xph, Theta = func_sig_phased(x, pshb, Tau)\n",
    "R1 = Theta * Theta.T\n",
    "R2 = Theta.T * Theta\n",
    "plt.figure(figsize = (16, 5))\n",
    "plt.subplot(1, 2, 1)\n",
    "plt.imshow(R1)\n",
    "plt.colorbar()\n",
    "plt.subplot(1, 2, 2)\n",
    "plt.imshow(R2[0:80, 0:80])\n",
    "plt.colorbar()\n",
    "plt.show()"
   ]
  },
  {
   "cell_type": "code",
   "execution_count": null,
   "metadata": {},
   "outputs": [],
   "source": [
    "plt.imshow(A[0:55,0:155])"
   ]
  },
  {
   "cell_type": "code",
   "execution_count": null,
   "metadata": {},
   "outputs": [],
   "source": [
    "ThThT = Theta * Theta.T\n",
    "DIFF = ThThT - np.identity(Tau)\n",
    "plt.figure(figsize = (20,5))\n",
    "plt.subplot(1,2,1)\n",
    "plt.imshow(ThThT[0:20,0:20])\n",
    "plt.colorbar()\n",
    "plt.subplot(1,2,2)\n",
    "plt.imshow(DIFF[0:20,0:20])\n",
    "plt.colorbar()"
   ]
  },
  {
   "cell_type": "code",
   "execution_count": null,
   "metadata": {},
   "outputs": [],
   "source": [
    "mids.append(mid)"
   ]
  },
  {
   "cell_type": "code",
   "execution_count": null,
   "metadata": {},
   "outputs": [],
   "source": [
    "emp_m_r1_l = []\n",
    "emp_v_r1_l = []\n",
    "emp_m_r2_l = []\n",
    "emp_v_r2_l = []\n",
    "emp_m_r_l = []\n",
    "emp_v_r_l = []\n",
    "nrn_l = [10,20,30,40,50,60,70,80,90,100,200,300,400,500,1000]\n",
    "for nrn in nrn_l:\n",
    "    r1 = np.random.normal(0, np.sqrt(1), nrn)\n",
    "    r2 = np.random.normal(0, np.sqrt(2), nrn)\n",
    "    r = r1 + r2\n",
    "    emp_m_r1_l.append(np.mean(r1))\n",
    "    emp_v_r1_l.append(np.var(r1))\n",
    "    emp_m_r2_l.append(np.mean(r2))\n",
    "    emp_v_r2_l.append(np.var(r2))\n",
    "    emp_m_r_l.append(np.mean(r))\n",
    "    emp_v_r_l.append(np.var(r))\n",
    "plt.figure(figsize = (20,6))\n",
    "plt.subplot(2,1,1)\n",
    "plt.plot(nrn_l, emp_m_r1_l, label = 'mean r1')    \n",
    "plt.plot(nrn_l, emp_m_r2_l, label = 'mean r2')    \n",
    "plt.plot(nrn_l, emp_m_r_l, label = 'mean r1+r2')    \n",
    "plt.subplot(2,1,2)\n",
    "plt.plot(nrn_l, emp_v_r1_l, label = 'mean r1')    \n",
    "plt.plot(nrn_l, emp_v_r2_l, label = 'mean r2')    \n",
    "plt.plot(nrn_l, emp_v_r_l, label = 'mean r1+r2')    \n",
    "plt.legend()"
   ]
  },
  {
   "cell_type": "code",
   "execution_count": null,
   "metadata": {},
   "outputs": [],
   "source": [
    "print('means:', np.mean(rnn1), np.mean(rnn2), np.mean(rnn))\n",
    "print('vars:', np.var(rnn1), np.var(rnn2), np.var(rnn))"
   ]
  },
  {
   "cell_type": "code",
   "execution_count": null,
   "metadata": {},
   "outputs": [],
   "source": []
  },
  {
   "cell_type": "code",
   "execution_count": null,
   "metadata": {},
   "outputs": [],
   "source": [
    "stop"
   ]
  },
  {
   "cell_type": "code",
   "execution_count": null,
   "metadata": {},
   "outputs": [],
   "source": []
  },
  {
   "cell_type": "code",
   "execution_count": null,
   "metadata": {},
   "outputs": [],
   "source": []
  },
  {
   "cell_type": "code",
   "execution_count": null,
   "metadata": {},
   "outputs": [],
   "source": []
  },
  {
   "cell_type": "code",
   "execution_count": null,
   "metadata": {},
   "outputs": [],
   "source": []
  },
  {
   "cell_type": "code",
   "execution_count": null,
   "metadata": {},
   "outputs": [],
   "source": []
  },
  {
   "cell_type": "code",
   "execution_count": null,
   "metadata": {},
   "outputs": [],
   "source": []
  },
  {
   "cell_type": "code",
   "execution_count": null,
   "metadata": {},
   "outputs": [],
   "source": []
  },
  {
   "cell_type": "code",
   "execution_count": null,
   "metadata": {},
   "outputs": [],
   "source": []
  },
  {
   "cell_type": "code",
   "execution_count": null,
   "metadata": {},
   "outputs": [],
   "source": []
  },
  {
   "cell_type": "code",
   "execution_count": null,
   "metadata": {},
   "outputs": [],
   "source": [
    "ThThT[0:10,0:10]"
   ]
  },
  {
   "cell_type": "code",
   "execution_count": null,
   "metadata": {},
   "outputs": [],
   "source": [
    "len(x[0])"
   ]
  },
  {
   "cell_type": "code",
   "execution_count": null,
   "metadata": {},
   "outputs": [],
   "source": [
    "Theta[0,0:30]\n",
    "Theta[1,0:30]"
   ]
  },
  {
   "cell_type": "code",
   "execution_count": null,
   "metadata": {},
   "outputs": [],
   "source": [
    "plt.imshow(Theta[0:30,0:70])"
   ]
  },
  {
   "cell_type": "code",
   "execution_count": null,
   "metadata": {},
   "outputs": [],
   "source": [
    "xph, binc, Theta, ThetaList = func_sig_phased_v2(x, pshb, Tau)"
   ]
  },
  {
   "cell_type": "code",
   "execution_count": null,
   "metadata": {},
   "outputs": [],
   "source": [
    "A = ThetaList[1]\n",
    "Res = A * A.T - np.identity(Tau)\n",
    "plt.imshow(Res[23:27,23:27])\n",
    "plt.colorbar()"
   ]
  },
  {
   "cell_type": "code",
   "execution_count": null,
   "metadata": {},
   "outputs": [],
   "source": [
    "A.shape[1]"
   ]
  },
  {
   "cell_type": "code",
   "execution_count": null,
   "metadata": {},
   "outputs": [],
   "source": [
    "plt.imshow(A[23:26,65:80])"
   ]
  },
  {
   "cell_type": "code",
   "execution_count": null,
   "metadata": {},
   "outputs": [],
   "source": [
    "A[24,65:80]"
   ]
  },
  {
   "cell_type": "code",
   "execution_count": null,
   "metadata": {},
   "outputs": [],
   "source": [
    "A[25,65:80]"
   ]
  },
  {
   "cell_type": "code",
   "execution_count": null,
   "metadata": {},
   "outputs": [],
   "source": []
  },
  {
   "cell_type": "code",
   "execution_count": null,
   "metadata": {},
   "outputs": [],
   "source": [
    "pshb"
   ]
  },
  {
   "cell_type": "code",
   "execution_count": null,
   "metadata": {},
   "outputs": [],
   "source": [
    "for i in np.arange(A.shape[1]):\n",
    "    cl = A[:,i]\n",
    "    print(i, sum(cl>0))"
   ]
  },
  {
   "cell_type": "code",
   "execution_count": null,
   "metadata": {},
   "outputs": [],
   "source": [
    "ps"
   ]
  },
  {
   "cell_type": "code",
   "execution_count": null,
   "metadata": {},
   "outputs": [],
   "source": [
    "a = [0, 2, 4, 6, 8, 10, 12, 14, 16, 18, 20]"
   ]
  },
  {
   "cell_type": "code",
   "execution_count": null,
   "metadata": {},
   "outputs": [],
   "source": []
  },
  {
   "cell_type": "code",
   "execution_count": null,
   "metadata": {},
   "outputs": [],
   "source": [
    "l = 5\n",
    "cu1 = a[:l]\n",
    "cu2 = a[l:]"
   ]
  },
  {
   "cell_type": "code",
   "execution_count": null,
   "metadata": {},
   "outputs": [],
   "source": [
    "cu1"
   ]
  },
  {
   "cell_type": "code",
   "execution_count": null,
   "metadata": {},
   "outputs": [],
   "source": [
    "def func_mapping_v2(seg, N):\n",
    "    #print(\"in func_mapping\")\n",
    "    mapped_seg = []\n",
    "    bins_count = []\n",
    "    bin_len = len(seg) / N\n",
    "    Theta = np.asmatrix(np.zeros((N,len(seg))))\n",
    "    for i in np.arange(N):            \n",
    "        if ((i * bin_len)!=0 and (i * bin_len).is_integer()==True):\n",
    "            print('here')\n",
    "            chunk_start = int(np.ceil(i * bin_len))+1\n",
    "        else:\n",
    "            chunk_start = int(np.ceil(i * bin_len))            \n",
    "        chunk_end = np.minimum(len(seg), int(np.floor((i+1) * bin_len))+1)\n",
    "        print(i, chunk_start, chunk_end)        \n",
    "        chunk = seg[chunk_start : chunk_end]                \n",
    "        mapped_seg.append(np.sum(chunk)/np.sqrt(len(chunk)))\n",
    "        bins_count.append(len(seg[int(np.ceil(i * bin_len)) : int(np.floor((i+1) * bin_len))+1]))\n",
    "        Theta[i,int(np.ceil(i * bin_len)) : np.minimum(len(seg), int(np.floor((i+1) * bin_len))+1)] = 1\n",
    "    return mapped_seg, bins_count, Theta"
   ]
  },
  {
   "cell_type": "code",
   "execution_count": null,
   "metadata": {},
   "outputs": [],
   "source": [
    "def func_sig_phased_v3(xhb, pshb, N):\n",
    "    yhb = []\n",
    "    binc = []\n",
    "    ThetaList = []\n",
    "    for i, hb in enumerate(xhb):\n",
    "        print(i)\n",
    "        y1, bc1, Th1 = func_mapping_v2(hb[:pshb[i]], int(N/2))\n",
    "        y2, bc2, Th2 = func_mapping_v2(hb[pshb[i]:], int(N/2))\n",
    "        y = np.concatenate([y1, y2])\n",
    "        Th = np.asmatrix(sclin.block_diag(Th1,Th2))\n",
    "        #print(Th)\n",
    "        Th = Th/np.sqrt(Th.sum(1))\n",
    "        #print(Th)\n",
    "        y = func_interpolate_nans(y)\n",
    "        bc = np.concatenate([bc1, bc2])                \n",
    "        #print(len(y1), len(y2), len(y), len(y))\n",
    "        yhb.append(y)    \n",
    "        binc.append(bc)\n",
    "        if i == 0:\n",
    "            Theta = np.copy(Th)\n",
    "        else:\n",
    "            Theta = np.concatenate([Theta,Th], axis=1)\n",
    "        ThetaList.append(Th)    \n",
    "    #print(Theta)        \n",
    "    Theta = Theta/np.sqrt(len(xhb))\n",
    "    #print(Theta)        \n",
    "    return yhb, binc, Theta, ThetaList"
   ]
  },
  {
   "cell_type": "code",
   "execution_count": null,
   "metadata": {},
   "outputs": [],
   "source": [
    "yhb, binc, Theta, ThetaList = func_sig_phased_v3(x, pshb, Tau)"
   ]
  },
  {
   "cell_type": "code",
   "execution_count": null,
   "metadata": {},
   "outputs": [],
   "source": [
    "plt.imshow(Theta[60:80,200:220])"
   ]
  },
  {
   "cell_type": "code",
   "execution_count": null,
   "metadata": {},
   "outputs": [],
   "source": [
    "A = ThetaList[0]\n",
    "plt.figure(figsize = (22,5))\n",
    "plt.imshow(A[60:80,200:220])"
   ]
  },
  {
   "cell_type": "code",
   "execution_count": null,
   "metadata": {},
   "outputs": [],
   "source": [
    "Res = A * A.T - np.identity(Tau)\n",
    "plt.imshow(Res[23:27,23:27])\n",
    "plt.colorbar()"
   ]
  },
  {
   "cell_type": "code",
   "execution_count": null,
   "metadata": {},
   "outputs": [],
   "source": []
  },
  {
   "cell_type": "code",
   "execution_count": null,
   "metadata": {},
   "outputs": [],
   "source": []
  },
  {
   "cell_type": "code",
   "execution_count": null,
   "metadata": {},
   "outputs": [],
   "source": []
  },
  {
   "cell_type": "code",
   "execution_count": null,
   "metadata": {},
   "outputs": [],
   "source": [
    "a = np.array([1,2,3,4,5,np.nan,7,8,np.nan,10,11,12,np.nan,14,15,np.nan,np.nan,np.nan,19])\n",
    "a"
   ]
  },
  {
   "cell_type": "code",
   "execution_count": null,
   "metadata": {},
   "outputs": [],
   "source": [
    "b = func_interpolate_nans(a)\n",
    "b"
   ]
  },
  {
   "cell_type": "code",
   "execution_count": null,
   "metadata": {},
   "outputs": [],
   "source": []
  },
  {
   "cell_type": "code",
   "execution_count": null,
   "metadata": {},
   "outputs": [],
   "source": []
  },
  {
   "cell_type": "code",
   "execution_count": null,
   "metadata": {},
   "outputs": [],
   "source": [
    "def func_mapping(seg, Tau):\n",
    "    mapped_seg = []\n",
    "    bin_len = len(seg) / Tau\n",
    "    #print(\"bin lenght:\", bin_len)\n",
    "    Theta = np.asmatrix(np.zeros((Tau, len(seg))))\n",
    "    for i in np.arange(Tau):\n",
    "        chunk_start = set_start(i, bin_len)\n",
    "        chunk_end = np.minimum(len(seg), int(np.floor((i+1) * bin_len)) + 1)        \n",
    "        chunk = seg[chunk_start : chunk_end]                \n",
    "        if(len(chunk) == 0): \n",
    "            ratio = np.nan\n",
    "        else:    \n",
    "            ratio = np.sum(chunk) / np.sqrt(len(chunk))\n",
    "        #print(i, chunk_start, chunk_end, ratio)\n",
    "        mapped_seg.append(ratio)\n",
    "        Theta[i, chunk_start : chunk_end] = 1    \n",
    "    return mapped_seg, Theta"
   ]
  },
  {
   "cell_type": "code",
   "execution_count": null,
   "metadata": {},
   "outputs": [],
   "source": [
    "n = 40\n",
    "t = np.arange(n)\n",
    "x = np.sin(t)\n",
    "#-----\n",
    "Tau = 39\n",
    "t_aug = np.linspace(0 ,n-1, Tau)\n",
    "x_aug = np.interp(t_aug,t,x)\n",
    "fig = plt.figure(figsize = (24,6))\n",
    "plt.plot(t, x, 'o-', lw = 3,  label = 'x, len = ' + str(len(x)))\n",
    "plt.plot(t_aug, x_aug, 'o-', lw = 3, label = 'x_aug, len = ' + str(len(x_aug)))\n",
    "plt.legend( loc = 'lower right', fontsize = 18)\n",
    "fig.tight_layout()\n",
    "plt.show()   "
   ]
  },
  {
   "cell_type": "code",
   "execution_count": null,
   "metadata": {},
   "outputs": [],
   "source": [
    "print(t)\n",
    "print(t_aug)"
   ]
  },
  {
   "cell_type": "code",
   "execution_count": null,
   "metadata": {},
   "outputs": [],
   "source": [
    "a = np.array([3,6,7,8,9,10,12,16,19,21,23,24,16,30,31,33,35,40])\n",
    "trg = 18\n",
    "step = len(a) / trg\n",
    "b = []\n",
    "for i in np.arange(trg + 1):\n",
    "    b.append(i * step)\n",
    "    print(i,b)\n",
    "for i in np.arange(trg):\n",
    "    print(i,int(np.ceil(b[i])),int(np.ceil(b[i+1])), a[int(np.ceil(b[i])):int(np.ceil(b[i+1]))])       \n",
    "    \n",
    "#c[0] = a[np.floor(b[0]):np.floor(b[1])]   \n",
    "#print(a)\n",
    "#print(step)\n"
   ]
  },
  {
   "cell_type": "code",
   "execution_count": null,
   "metadata": {},
   "outputs": [],
   "source": [
    "x"
   ]
  },
  {
   "cell_type": "code",
   "execution_count": null,
   "metadata": {},
   "outputs": [],
   "source": [
    "def hb_augumentation(hb,Tau):\n",
    "    t_hb = np.arange(len(hb))\n",
    "    t_aug = np.linspace(0 ,len(hb)-1, Tau)\n",
    "    hb_aug = np.interp(t_aug, t_hb, hb)\n",
    "    return hb_aug.tolist()"
   ]
  },
  {
   "cell_type": "code",
   "execution_count": null,
   "metadata": {},
   "outputs": [],
   "source": [
    "# hb = np.sin(np.arange(20))\n",
    "# Tau = 14\n",
    "# hb_aug = hb_augumentation(hb, Tau)\n",
    "\n",
    "# print(len(hb), len(hb_aug))"
   ]
  },
  {
   "cell_type": "code",
   "execution_count": null,
   "metadata": {},
   "outputs": [],
   "source": [
    "def ecg_augumentation(x, Tau):\n",
    "    x_aug = x.copy()\n",
    "    for i in np.arange(len(x_aug)):\n",
    "        if (len(x_aug[i])<Tau):\n",
    "            print('data is augumented for hb ',i)\n",
    "            x_aug[i] = hb_augumentation(x_aug[i],Tau)\n",
    "    return x_aug"
   ]
  },
  {
   "cell_type": "code",
   "execution_count": null,
   "metadata": {},
   "outputs": [],
   "source": [
    "# x=[np.sin(np.arange(5)), np.cos(np.arange(10)), np.sqrt(np.arange(7))]\n",
    "# x_aug = ecg_augumentation(x, 8)\n",
    "# plt.figure(figsize = (24,4))\n",
    "# plt.subplot(1,2,1)\n",
    "# for hb in x:\n",
    "#     plt.plot(hb)\n",
    "# plt.subplot(1,2,2)\n",
    "# for hb in x_aug:\n",
    "#     plt.plot(hb)\n",
    "# fig.tight_layout()\n",
    "# plt.show()   "
   ]
  },
  {
   "cell_type": "code",
   "execution_count": null,
   "metadata": {},
   "outputs": [],
   "source": [
    "def get_sigphase_and_transfmat(x, pshb, Tau):\n",
    "    x_a = []\n",
    "    xph = []\n",
    "    Theta = []\n",
    "    for i, hb in enumerate(x):\n",
    "        hb1 = hb[0:pshb[i]]\n",
    "        if(len(hb1) < int(Tau/2)):\n",
    "            hb1 = hb_augumentation(hb1, int(Tau/2)) \n",
    "            Th1 = np.identity(int(Tau/2))\n",
    "            hb1_ph = hb1\n",
    "        else:\n",
    "            Tb1, hb1_ph = map_to_phase(hb1, int(Tau/2))\n",
    "        hb2 = hb[pshb[i]:]\n",
    "        if(len(hb2) < int(Tau/2)):\n",
    "            hb2 = hb_augumentation(hb2,int(Tau/2)) \n",
    "            Th2 = np.identity(int(Tau/2))\n",
    "            hb2_ph = hb2\n",
    "        else:\n",
    "            Tb2, hb2_ph = map_to_phase(hb2, int(Tau/2))\n",
    "\n",
    "        # fabricate the heartbeat as concatenation\n",
    "        hb = np.concatenate([hb1, hb1])\n",
    "            \n",
    "        # fabricate the phase heartbeat as concatenation\n",
    "        hb_ph = np.concatenate([hb1_ph, hb1_ph])\n",
    "        \n",
    "        # fabricate the Th as diagonal concatenation\n",
    "        Th = np.zeros((Th1.shape[0]+Th2.shape[0], Th1.shape[1]+Th2.shape[1]))\n",
    "        Th[0:Th1.shape[0],0:Th1.shape[1]] = Th1\n",
    "        Th[Th1.shape[0]:Th1.shape[0]+Th2.shape[0],Th1.shape[1]:Th1.shape[1]+Th2.shape[1]] = Th2    \n",
    "        Th = Th/Th.sum(axis=1)[:,None]\n",
    "    x_a.append(hb)\n",
    "    xph.append(hb_ph) \n",
    "    Theta.append(Th)      \n",
    "    return x_a, xph, Theta"
   ]
  },
  {
   "cell_type": "code",
   "execution_count": null,
   "metadata": {},
   "outputs": [],
   "source": [
    "Tst = np.array([[1,2,3,4],[5,6,7,8],[9,10,11,12]])\n",
    "Tst"
   ]
  },
  {
   "cell_type": "code",
   "execution_count": null,
   "metadata": {},
   "outputs": [],
   "source": [
    "Tst/Tst.sum(axis=1)[:,None]"
   ]
  },
  {
   "cell_type": "code",
   "execution_count": null,
   "metadata": {},
   "outputs": [],
   "source": [
    "Tst"
   ]
  },
  {
   "cell_type": "code",
   "execution_count": null,
   "metadata": {},
   "outputs": [],
   "source": [
    "plt.imshow(Tst)"
   ]
  },
  {
   "cell_type": "code",
   "execution_count": null,
   "metadata": {},
   "outputs": [],
   "source": []
  },
  {
   "cell_type": "code",
   "execution_count": null,
   "metadata": {},
   "outputs": [],
   "source": [
    "def get_intervals(n,m):\n",
    "    step = n / (m+1)\n",
    "    ints = []\n",
    "    for i in np.arange(m + 1):\n",
    "        ints.append(i * step)\n",
    "    return ints"
   ]
  },
  {
   "cell_type": "code",
   "execution_count": null,
   "metadata": {},
   "outputs": [],
   "source": [
    "def get_theta_and_phase(hb, Tau):\n",
    "    print(len(hb), Tau)\n",
    "    ints = get_intervals(len(hb), Tau)\n",
    "    #---\n",
    "    T = np.zeros((Tau, len(hb)))\n",
    "    hbph = [] * Tau\n",
    "    #---\n",
    "    for i in np.arange(Tau):\n",
    "        start = int(np.ceil(ints[i]))\n",
    "        end = int(np.ceil(ints[i+1]))\n",
    "        if(start == end):\n",
    "            if(start > 0):\n",
    "                start = start - 1\n",
    "            if(end < len(hb)):\n",
    "                end = end + 1\n",
    "        T[i, np.arange(start, end)] = 1/np.sqrt(len(hb[start:end]))\n",
    "        hbph.append(sum(hb[start:end])/np.sqrt(len(hb[start:end])))\n",
    "    return T, hbph"
   ]
  },
  {
   "cell_type": "code",
   "execution_count": null,
   "metadata": {},
   "outputs": [],
   "source": [
    "def get_sigphase_and_transfmat(x, pshb, Tau):\n",
    "    xph = []\n",
    "    Theta = []\n",
    "    for i, hb in enumerate(x):\n",
    "        hb1 = hb[0:pshb[i]]\n",
    "        Th1, hb1_ph = get_theta_and_phase(hb1, int(Tau/2))\n",
    "        #----- ---- --- -- -    \n",
    "        hb2 = hb[pshb[i]:]\n",
    "        Th2, hb2_ph = get_theta_and_phase(hb2, int(Tau/2))\n",
    "        #----- ---- --- -- -            \n",
    "        # fabricate the phase heartbeat as concatenation\n",
    "        hb_ph = np.concatenate([hb1_ph, hb2_ph])        \n",
    "        # fabricate the Th as diagonal concatenation\n",
    "        Th = np.zeros((Th1.shape[0] + Th2.shape[0], Th1.shape[1] + Th2.shape[1]))\n",
    "        Th[0 : Th1.shape[0], 0 : Th1.shape[1]] = Th1\n",
    "        Th[Th1.shape[0] : Th1.shape[0] + Th2.shape[0], Th1.shape[1] : Th1.shape[1] + Th2.shape[1]] = Th2    \n",
    "        Th = Th/Th.sum(axis=1)[:,None]\n",
    "        #----- ---- --- -- -        \n",
    "        xph.append(hb_ph) \n",
    "        Theta.append(Th)      \n",
    "    return xph, Theta"
   ]
  },
  {
   "cell_type": "code",
   "execution_count": null,
   "metadata": {},
   "outputs": [],
   "source": [
    "# hb1 = np.sin(np.arange(21))\n",
    "# #hb2 = np.sin(np.arange(24))\n",
    "# #hb3 = np.sin(np.arange(23))\n",
    "# #hb4 = np.sin(np.arange(22))\n",
    "# pshb = [10,12,11,10]\n",
    "# x = [hb1]\n",
    "# #x = [hb1,hb2,hb3,hb4]\n",
    "# Tau = 50\n",
    "# x_a, xph, Th = get_sigphase_and_transfmat(x, pshb, Tau)\n",
    "# #Theta = create_Theta(Th)"
   ]
  },
  {
   "cell_type": "code",
   "execution_count": null,
   "metadata": {},
   "outputs": [],
   "source": [
    "#srecord = wfdb.rdrecord('Data/s0010_re')\n",
    "FILE_PATH = os.getcwd()\n",
    "data_dir = FILE_PATH + '/../QTDataBase/'\n",
    "data_files = os.listdir(data_dir) # get a listing of the directory\n",
    "dat_files = [x.split('.')[0] for x in data_files]\n",
    "#dat_files = sorted([f for f in data_files if f.endswith('.hea')]) # get a list of all the .atc files\n",
    "#-------\n",
    "file_name = 'sele0603'\n",
    "#'sele0603' 'sele0612' 'sel41' 'sele0122' 'sel40' 'sele0612' 'sele0303'\n",
    "#-------\n",
    "file_to_read = data_dir + file_name\n",
    "signals, fields = wfdb.rdsamp(file_to_read, sampfrom=0)\n",
    "fs = fields[\"fs\"]\n",
    "ch_num = 0\n",
    "s = signals[:,ch_num]\n",
    "#\n",
    "print(\"selected file: \", file_name)\n",
    "print(\"selected channel: \", ch_num)\n",
    "#-------\n",
    "n_sec = 60\n",
    "N = n_sec * fs \n",
    "ecg_clean = s[0: N]\n",
    "tm = np.arange(0, N)/fs\n",
    "#-------\n",
    "bwr, ecg_bwr = func_bw_extraction_MAMD(signal = ecg_clean,\n",
    "                                       win_l_MA = 0.5,\n",
    "                                       win_l_MD = 0.71,\n",
    "                                       fs = fs)\n",
    "ecg_bp1, ecg_bp, ecg_tan, ecg_sq, ecg_MA_sq, peaks2, pks = func_detect_peaks(signal = ecg_bwr, \n",
    "                                                                             frac = 0.5, \n",
    "                                                                             win_l_calib = 0.6, \n",
    "                                                                             win_l_peak_search = 0.5, \n",
    "                                                                             fs = fs)\n",
    "mids = func_detect_middles(peaks2, len(ecg_bwr))\n",
    "pks = func_reorder_peaks(pks, mids)\n",
    "\n",
    "ecg = ecg_bwr[mids[0]:mids[-1]+1]                           # get the ecg, i.e. get the chunck between the first mid and last mid\n",
    "ps = np.int_(pks - mids[0])                                 # calibrate the peaks, by shifting with the mids[0] \n",
    "                                                            # which is the begining of the signal\n",
    "ms = np.int_(mids - mids[0])                                # calibrate the midles, by shifting with the mids[0] \n",
    "                                                            # which is the begining of the signal\n",
    "pshb = ps - ms[:-1]                                         # the peaks relative to each heartbeat, i.e. the position counting \n",
    "                                                            # from the heartbeat begining    \n",
    "#----- ---- --- -- -\n",
    "target_noise_db = 0                                         # set the target noise in dB\n",
    "Tau = 150                                                   # set the number of bins (samples in phase space)\n",
    "ecg_n, n, var_n = func_add_noise(target_noise_db, ecg)      # get the noisy signal and the added noise signal\n",
    "sd_n = np.sqrt(var_n)\n",
    "#----- ---- --- -- -\n",
    "x = func_heartbeats(ecg, ms)                                # x is the \"pure\" ecg, as list of heartbeats\n",
    "x_f = np.concatenate(x, axis=0).tolist()                    # x_f refers to x flatten, used in multiplications\n",
    "#----- ---- --- -- -\n",
    "x_n = func_heartbeats(ecg_n, ms)                            # x is the \"noisy\" ecg, as list of noisy heartbeats\n",
    "x_n_f = np.concatenate(x_n, axis=0).tolist()                # x_n_f refers to x_n flatten, used in multiplications"
   ]
  },
  {
   "cell_type": "code",
   "execution_count": null,
   "metadata": {},
   "outputs": [],
   "source": [
    "pshb"
   ]
  },
  {
   "cell_type": "code",
   "execution_count": null,
   "metadata": {},
   "outputs": [],
   "source": [
    "len(x[0])"
   ]
  },
  {
   "cell_type": "code",
   "execution_count": null,
   "metadata": {},
   "outputs": [],
   "source": []
  },
  {
   "cell_type": "code",
   "execution_count": null,
   "metadata": {},
   "outputs": [],
   "source": [
    "cc = np.matmul(Th[0], Th[0].T)\n",
    "plt.imshow(cc[0:10,0:10])\n",
    "plt.colorbar()"
   ]
  },
  {
   "cell_type": "code",
   "execution_count": null,
   "metadata": {},
   "outputs": [],
   "source": [
    "plt.figure(figsize = (24,4))\n",
    "plt.subplot(1,3,1)\n",
    "for hb in x:\n",
    "    plt.plot(hb, '-')\n",
    "plt.subplot(1,3,2)\n",
    "for hb in xa:\n",
    "    plt.plot(hb, '-')\n",
    "plt.subplot(1,3,3)\n",
    "for hb in xph:\n",
    "    plt.plot(hb, '-')\n",
    "fig.tight_layout()\n",
    "plt.show()   "
   ]
  },
  {
   "cell_type": "code",
   "execution_count": null,
   "metadata": {},
   "outputs": [],
   "source": [
    "Theta = create_Theta(Th)\n",
    "res = Theta * Theta.T\n",
    "plt.imshow(res[0:30,0:30])\n",
    "plt.colorbar()"
   ]
  },
  {
   "cell_type": "code",
   "execution_count": null,
   "metadata": {},
   "outputs": [],
   "source": [
    "#----- ---- --- -- -\n",
    "# x in phase domain \n",
    "xph, Th = func_sig_phased(x, pshb, Tau)                    # xph is list of transformed heartbeats for x, Theta is the transformation\n",
    "xa, xph, Th = get_sigphase_and_transfmat(x, pshb, Tau)\n",
    "# xph, Th = func_sig_phased(x, pshb_aug, Tau)                 # xph is list of transformed heartbeats for x, Theta is the transformation\n",
    "Theta = create_Theta(Th)\n",
    "xph_f = np.concatenate(xph, axis=0).tolist()                # xph_f refers to xph flatten, used in multiplications\n",
    "mu_xph = np.asarray(Theta * np.asmatrix(x_f).T)             # mu_xph is the mean-binned signal x in the phase domain\n",
    "#----- ---- --- -- -\n",
    "# x_n in phase domain \n",
    "xph_n, Th = func_sig_phased(x_n, pshb, Tau)                 # xph_n is list of transformed heartbeats for x, Theta is the transformation\n",
    "# xph_n, Th = func_sig_phased(x_n, pshb_aug, Tau)             # xph_n is list of transformed heartbeats for x, Theta is the transformation\n",
    "Theta = create_Theta(Th)\n",
    "xph_n_f = np.concatenate(xph_n, axis=0).tolist()            # xph_n_f refers to xph flatten, used in multiplications\n",
    "mu_xph_n = np.asarray(Theta * np.asmatrix(x_n_f).T)         # mu_xph_n is the mean-binned signal x_n in the phase domain\n",
    "#----- ---- --- -- -\n",
    "# noise variance, estimation via ME\n",
    "var_n_ME = compute_var_n_ME_v1(x_n_f, mu_xph_n)\n",
    "sd_n_ME = np.sqrt(var_n_ME)\n",
    "#----- ---- --- -- -\n",
    "S_xph_n, S_sph_n, var_xph_n, var_sph_n = compute_covariance(xph_n, var_n)\n",
    "sd_xph_n = np.sqrt(var_xph_n)\n",
    "# sd_sph_n = np.sqrt(var_sph_n)\n",
    "# S_xph_n, S_sph_n, var_xph_n, var_sph_n = compute_covariance_v2(xph_n, var_n)\n",
    "# sd_xph_n = np.sqrt(var_xph_n)\n",
    "# #sd_sph_n = np.sqrt(var_sph_n)\n",
    "#----- ---- --- -- -\n",
    "Theta = np.asmatrix(func_MA_filter_time_phase_matrix(Theta, 5))\n",
    "#----- ---- --- -- -\n",
    "Rho_0 = np.identity(Tau)\n",
    "s_h0 = compute_GP_filter(Theta, Rho_0, x_n_f)\n",
    "input_SNR_db, output_SNR_db_0, delta_SNR_db_0 = compute_all_SNRs(x_f, n, s_h0)\n",
    "#----- ---- --- -- -\n",
    "# input_SNR_db = func_SNR_computation(x_f, n)\n",
    "# output_SNR_db_0 = func_SNR_computation(x_f, (s_h0 - x_f))\n",
    "# delta_SNR_db_0 = output_SNR_db_0 - input_SNR_db\n",
    "# print(\"flag 6\")\n",
    "#----- ---- --- -- -\n",
    "Rho_1 = np.diag(1 - (var_n_ME / (var_n_ME + var_xph_n )))\n",
    "s_h1 = compute_GP_filter(Theta, Rho_1, x_n_f)\n",
    "input_SNR_db, output_SNR_db_1, delta_SNR_db_1 = compute_all_SNRs(x_f, n, s_h1)\n",
    "#----- ---- --- -- -\n",
    "# input_SNR_db = func_SNR_computation(x_f, n)\n",
    "# output_SNR_db_1 = func_SNR_computation(x_f, (s_h1 - x_f))\n",
    "# delta_SNR_db_1 = output_SNR_db_1 - input_SNR_db\n",
    "# print(\"flag 7\")\n",
    "#----- ---- --- -- -"
   ]
  },
  {
   "cell_type": "code",
   "execution_count": null,
   "metadata": {},
   "outputs": [],
   "source": [
    "plt.figure(figsize = (24,4))    \n",
    "plt.subplot(2,2,1)\n",
    "for hb in x:\n",
    "    plt.plot(hb)\n",
    "plt.subplot(2,2,2)\n",
    "for hb in x_a:\n",
    "    plt.plot(hb)\n",
    "plt.subplot(2,2,3)\n",
    "for hb in xph:\n",
    "    plt.plot(hb)\n",
    "plt.subplot(2,2,4)\n",
    "#plt.imshow(Theta)\n",
    "fig.tight_layout()\n",
    "plt.show()   "
   ]
  },
  {
   "cell_type": "code",
   "execution_count": null,
   "metadata": {},
   "outputs": [],
   "source": []
  },
  {
   "cell_type": "code",
   "execution_count": null,
   "metadata": {},
   "outputs": [],
   "source": []
  },
  {
   "cell_type": "code",
   "execution_count": null,
   "metadata": {},
   "outputs": [],
   "source": []
  },
  {
   "cell_type": "code",
   "execution_count": null,
   "metadata": {},
   "outputs": [],
   "source": []
  },
  {
   "cell_type": "code",
   "execution_count": null,
   "metadata": {},
   "outputs": [],
   "source": []
  },
  {
   "cell_type": "code",
   "execution_count": null,
   "metadata": {},
   "outputs": [],
   "source": [
    "plt.figure(figsize = (24,4))    \n",
    "plt.subplot(2,2,1)\n",
    "plt.imshow(T)\n",
    "plt.subplot(2,2,2)\n",
    "plt.imshow(np.matmul(T, T.T))\n",
    "plt.subplot(2,2,3)\n",
    "plt.plot(hb)\n",
    "plt.subplot(2,2,4)\n",
    "plt.plot(hbph)\n",
    "fig.tight_layout()\n",
    "plt.show()   "
   ]
  },
  {
   "cell_type": "code",
   "execution_count": null,
   "metadata": {},
   "outputs": [],
   "source": [
    "trg = 18\n",
    "step = len(a) / trg\n",
    "b = []\n",
    "for i in np.arange(trg + 1):\n",
    "    b.append(i * step)\n",
    "    print(i,b)\n",
    "\n",
    "\n",
    "    \n",
    "#c[0] = a[np.floor(b[0]):np.floor(b[1])]   \n",
    "#print(a)\n",
    "#print(step)"
   ]
  },
  {
   "cell_type": "code",
   "execution_count": null,
   "metadata": {},
   "outputs": [],
   "source": []
  },
  {
   "cell_type": "code",
   "execution_count": null,
   "metadata": {},
   "outputs": [],
   "source": []
  },
  {
   "cell_type": "code",
   "execution_count": null,
   "metadata": {},
   "outputs": [],
   "source": []
  },
  {
   "cell_type": "code",
   "execution_count": null,
   "metadata": {},
   "outputs": [],
   "source": []
  },
  {
   "cell_type": "code",
   "execution_count": null,
   "metadata": {},
   "outputs": [],
   "source": []
  }
 ],
 "metadata": {
  "kernelspec": {
   "display_name": "Python 3 (ipykernel)",
   "language": "python",
   "name": "python3"
  },
  "language_info": {
   "codemirror_mode": {
    "name": "ipython",
    "version": 3
   },
   "file_extension": ".py",
   "mimetype": "text/x-python",
   "name": "python",
   "nbconvert_exporter": "python",
   "pygments_lexer": "ipython3",
   "version": "3.7.11"
  }
 },
 "nbformat": 4,
 "nbformat_minor": 4
}
